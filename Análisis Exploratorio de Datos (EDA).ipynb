{
 "cells": [
  {
   "cell_type": "markdown",
   "metadata": {},
   "source": [
    "# ¿Qué vende un coche?<a id='intro'></a> \n",
    "\n",
    "El anunciante de autos usados Crankshaft List quiere saber como ses ven influidas sus ventas dependiendo de los diferentes factores que poseen sus vehículos, para ellos nos contrata para hacer un analisis profundo de las diferentes variables de sus vehículos.\n",
    "\n",
    "## Objetivo: \n",
    "Probar las siguientes hipótesis:\n",
    "1. El valor de los vehículos es inversamente proporcional al modelo.\n",
    "2. Las millas recorridas del vehículo afectan el precio final.\n",
    "3. La condición del vehículo es directamente proporcional al precio final.\n",
    "4. El tipo de transmisión influye en el precio del vehículo.\n",
    "5. Existe una preferencia de colores a la hora de comprar un vehiculo.\n",
    "\n",
    "\n",
    "\n",
    "\n",
    "## Etapas \n",
    "El proyecto se desarrollará en cuatro etapas:\n",
    " 1. Descripción de los datos\n",
    " 2. Preprocesamiento de datos\n",
    " 3. Análisis exploratorio de datos\n",
    " 4. Conclusión general\n",
    "\n"
   ]
  },
  {
   "cell_type": "markdown",
   "metadata": {},
   "source": [
    "# Contenidos <a id='back'></a> \n",
    "\n",
    "* Etapa 1. Descripción de los datos\n",
    "    * Carga de las librerías\n",
    "    * Cargar datos\n",
    "        * Explorar datos iniciales\n",
    "    * Revisión detallada de cada columna\n",
    "    * Conclusiones y siguientes pasos\n",
    "* Etapa 2. Preprocesamiento de datos\n",
    "    * Tratamiento de valores ausentes\n",
    "    * Corregir tipos de datos\n",
    "    * Enriquecer datos\n",
    "* Etapa 3. Análisis exploratorio de datos\n",
    "    * Estudiar parámetros principales\n",
    "    * Estudiar y tratar valores atípicos\n",
    "    * Estudiar parámetros principales sin valores atípicos\n",
    "    * Período de colocación de los anuncios\n",
    "    * Precio promedio por cada tipo de vehículo\n",
    "    * Factores de precio\n",
    "* Etapa 4. Conclusión final"
   ]
  },
  {
   "cell_type": "markdown",
   "metadata": {},
   "source": [
    "## Inicialización"
   ]
  },
  {
   "cell_type": "code",
   "execution_count": 1,
   "metadata": {},
   "outputs": [],
   "source": [
    "import pandas as pd\n",
    "import matplotlib.pyplot as plt\n",
    "import numpy as np"
   ]
  },
  {
   "cell_type": "markdown",
   "metadata": {},
   "source": [
    "### Cargar datos"
   ]
  },
  {
   "cell_type": "code",
   "execution_count": 2,
   "metadata": {},
   "outputs": [],
   "source": [
    "df = pd.read_csv('/datasets/vehicles_us.csv')"
   ]
  },
  {
   "cell_type": "markdown",
   "metadata": {},
   "source": [
    "### Explorar datos iniciales"
   ]
  },
  {
   "cell_type": "markdown",
   "metadata": {},
   "source": [
    "El dataset contiene los siguientes campos:\n",
    "- `price`\n",
    "- `model_year`\n",
    "- `model`\n",
    "- `condition`\n",
    "- `cylinders`\n",
    "- `fuel` — gasolina, diesel, etc.\n",
    "- `odometer` — el millaje del vehículo cuando el anuncio fue publicado\n",
    "- `transmission`\n",
    "- `paint_color`\n",
    "- `is_4wd` — si el vehículo tiene tracción a las 4 ruedas (tipo Booleano)\n",
    "- `date_posted` — la fecha en la que el anuncio fue publicado\n",
    "- `days_listed` — desde la publicación hasta que se elimina\n",
    "\n"
   ]
  },
  {
   "cell_type": "markdown",
   "metadata": {},
   "source": [
    "Veamos como se compone nuestro DataFrame"
   ]
  },
  {
   "cell_type": "code",
   "execution_count": 3,
   "metadata": {
    "scrolled": false
   },
   "outputs": [
    {
     "data": {
      "text/html": [
       "<div>\n",
       "<style scoped>\n",
       "    .dataframe tbody tr th:only-of-type {\n",
       "        vertical-align: middle;\n",
       "    }\n",
       "\n",
       "    .dataframe tbody tr th {\n",
       "        vertical-align: top;\n",
       "    }\n",
       "\n",
       "    .dataframe thead th {\n",
       "        text-align: right;\n",
       "    }\n",
       "</style>\n",
       "<table border=\"1\" class=\"dataframe\">\n",
       "  <thead>\n",
       "    <tr style=\"text-align: right;\">\n",
       "      <th></th>\n",
       "      <th>price</th>\n",
       "      <th>model_year</th>\n",
       "      <th>model</th>\n",
       "      <th>condition</th>\n",
       "      <th>cylinders</th>\n",
       "      <th>fuel</th>\n",
       "      <th>odometer</th>\n",
       "      <th>transmission</th>\n",
       "      <th>type</th>\n",
       "      <th>paint_color</th>\n",
       "      <th>is_4wd</th>\n",
       "      <th>date_posted</th>\n",
       "      <th>days_listed</th>\n",
       "    </tr>\n",
       "  </thead>\n",
       "  <tbody>\n",
       "    <tr>\n",
       "      <th>0</th>\n",
       "      <td>9400</td>\n",
       "      <td>2011.0</td>\n",
       "      <td>bmw x5</td>\n",
       "      <td>good</td>\n",
       "      <td>6.0</td>\n",
       "      <td>gas</td>\n",
       "      <td>145000.0</td>\n",
       "      <td>automatic</td>\n",
       "      <td>SUV</td>\n",
       "      <td>NaN</td>\n",
       "      <td>1.0</td>\n",
       "      <td>2018-06-23</td>\n",
       "      <td>19</td>\n",
       "    </tr>\n",
       "    <tr>\n",
       "      <th>1</th>\n",
       "      <td>25500</td>\n",
       "      <td>NaN</td>\n",
       "      <td>ford f-150</td>\n",
       "      <td>good</td>\n",
       "      <td>6.0</td>\n",
       "      <td>gas</td>\n",
       "      <td>88705.0</td>\n",
       "      <td>automatic</td>\n",
       "      <td>pickup</td>\n",
       "      <td>white</td>\n",
       "      <td>1.0</td>\n",
       "      <td>2018-10-19</td>\n",
       "      <td>50</td>\n",
       "    </tr>\n",
       "    <tr>\n",
       "      <th>2</th>\n",
       "      <td>5500</td>\n",
       "      <td>2013.0</td>\n",
       "      <td>hyundai sonata</td>\n",
       "      <td>like new</td>\n",
       "      <td>4.0</td>\n",
       "      <td>gas</td>\n",
       "      <td>110000.0</td>\n",
       "      <td>automatic</td>\n",
       "      <td>sedan</td>\n",
       "      <td>red</td>\n",
       "      <td>NaN</td>\n",
       "      <td>2019-02-07</td>\n",
       "      <td>79</td>\n",
       "    </tr>\n",
       "    <tr>\n",
       "      <th>3</th>\n",
       "      <td>1500</td>\n",
       "      <td>2003.0</td>\n",
       "      <td>ford f-150</td>\n",
       "      <td>fair</td>\n",
       "      <td>8.0</td>\n",
       "      <td>gas</td>\n",
       "      <td>NaN</td>\n",
       "      <td>automatic</td>\n",
       "      <td>pickup</td>\n",
       "      <td>NaN</td>\n",
       "      <td>NaN</td>\n",
       "      <td>2019-03-22</td>\n",
       "      <td>9</td>\n",
       "    </tr>\n",
       "    <tr>\n",
       "      <th>4</th>\n",
       "      <td>14900</td>\n",
       "      <td>2017.0</td>\n",
       "      <td>chrysler 200</td>\n",
       "      <td>excellent</td>\n",
       "      <td>4.0</td>\n",
       "      <td>gas</td>\n",
       "      <td>80903.0</td>\n",
       "      <td>automatic</td>\n",
       "      <td>sedan</td>\n",
       "      <td>black</td>\n",
       "      <td>NaN</td>\n",
       "      <td>2019-04-02</td>\n",
       "      <td>28</td>\n",
       "    </tr>\n",
       "    <tr>\n",
       "      <th>5</th>\n",
       "      <td>14990</td>\n",
       "      <td>2014.0</td>\n",
       "      <td>chrysler 300</td>\n",
       "      <td>excellent</td>\n",
       "      <td>6.0</td>\n",
       "      <td>gas</td>\n",
       "      <td>57954.0</td>\n",
       "      <td>automatic</td>\n",
       "      <td>sedan</td>\n",
       "      <td>black</td>\n",
       "      <td>1.0</td>\n",
       "      <td>2018-06-20</td>\n",
       "      <td>15</td>\n",
       "    </tr>\n",
       "    <tr>\n",
       "      <th>6</th>\n",
       "      <td>12990</td>\n",
       "      <td>2015.0</td>\n",
       "      <td>toyota camry</td>\n",
       "      <td>excellent</td>\n",
       "      <td>4.0</td>\n",
       "      <td>gas</td>\n",
       "      <td>79212.0</td>\n",
       "      <td>automatic</td>\n",
       "      <td>sedan</td>\n",
       "      <td>white</td>\n",
       "      <td>NaN</td>\n",
       "      <td>2018-12-27</td>\n",
       "      <td>73</td>\n",
       "    </tr>\n",
       "    <tr>\n",
       "      <th>7</th>\n",
       "      <td>15990</td>\n",
       "      <td>2013.0</td>\n",
       "      <td>honda pilot</td>\n",
       "      <td>excellent</td>\n",
       "      <td>6.0</td>\n",
       "      <td>gas</td>\n",
       "      <td>109473.0</td>\n",
       "      <td>automatic</td>\n",
       "      <td>SUV</td>\n",
       "      <td>black</td>\n",
       "      <td>1.0</td>\n",
       "      <td>2019-01-07</td>\n",
       "      <td>68</td>\n",
       "    </tr>\n",
       "    <tr>\n",
       "      <th>8</th>\n",
       "      <td>11500</td>\n",
       "      <td>2012.0</td>\n",
       "      <td>kia sorento</td>\n",
       "      <td>excellent</td>\n",
       "      <td>4.0</td>\n",
       "      <td>gas</td>\n",
       "      <td>104174.0</td>\n",
       "      <td>automatic</td>\n",
       "      <td>SUV</td>\n",
       "      <td>NaN</td>\n",
       "      <td>1.0</td>\n",
       "      <td>2018-07-16</td>\n",
       "      <td>19</td>\n",
       "    </tr>\n",
       "    <tr>\n",
       "      <th>9</th>\n",
       "      <td>9200</td>\n",
       "      <td>2008.0</td>\n",
       "      <td>honda pilot</td>\n",
       "      <td>excellent</td>\n",
       "      <td>NaN</td>\n",
       "      <td>gas</td>\n",
       "      <td>147191.0</td>\n",
       "      <td>automatic</td>\n",
       "      <td>SUV</td>\n",
       "      <td>blue</td>\n",
       "      <td>1.0</td>\n",
       "      <td>2019-02-15</td>\n",
       "      <td>17</td>\n",
       "    </tr>\n",
       "    <tr>\n",
       "      <th>10</th>\n",
       "      <td>19500</td>\n",
       "      <td>2011.0</td>\n",
       "      <td>chevrolet silverado 1500</td>\n",
       "      <td>excellent</td>\n",
       "      <td>8.0</td>\n",
       "      <td>gas</td>\n",
       "      <td>128413.0</td>\n",
       "      <td>automatic</td>\n",
       "      <td>pickup</td>\n",
       "      <td>black</td>\n",
       "      <td>1.0</td>\n",
       "      <td>2018-09-17</td>\n",
       "      <td>38</td>\n",
       "    </tr>\n",
       "    <tr>\n",
       "      <th>11</th>\n",
       "      <td>8990</td>\n",
       "      <td>2012.0</td>\n",
       "      <td>honda accord</td>\n",
       "      <td>excellent</td>\n",
       "      <td>4.0</td>\n",
       "      <td>gas</td>\n",
       "      <td>111142.0</td>\n",
       "      <td>automatic</td>\n",
       "      <td>sedan</td>\n",
       "      <td>grey</td>\n",
       "      <td>NaN</td>\n",
       "      <td>2019-03-28</td>\n",
       "      <td>29</td>\n",
       "    </tr>\n",
       "    <tr>\n",
       "      <th>12</th>\n",
       "      <td>18990</td>\n",
       "      <td>2012.0</td>\n",
       "      <td>ram 1500</td>\n",
       "      <td>excellent</td>\n",
       "      <td>8.0</td>\n",
       "      <td>gas</td>\n",
       "      <td>140742.0</td>\n",
       "      <td>automatic</td>\n",
       "      <td>pickup</td>\n",
       "      <td>NaN</td>\n",
       "      <td>1.0</td>\n",
       "      <td>2019-04-02</td>\n",
       "      <td>37</td>\n",
       "    </tr>\n",
       "    <tr>\n",
       "      <th>13</th>\n",
       "      <td>16500</td>\n",
       "      <td>2018.0</td>\n",
       "      <td>hyundai sonata</td>\n",
       "      <td>excellent</td>\n",
       "      <td>4.0</td>\n",
       "      <td>gas</td>\n",
       "      <td>22104.0</td>\n",
       "      <td>automatic</td>\n",
       "      <td>sedan</td>\n",
       "      <td>silver</td>\n",
       "      <td>NaN</td>\n",
       "      <td>2019-01-14</td>\n",
       "      <td>29</td>\n",
       "    </tr>\n",
       "    <tr>\n",
       "      <th>14</th>\n",
       "      <td>12990</td>\n",
       "      <td>2009.0</td>\n",
       "      <td>gmc yukon</td>\n",
       "      <td>excellent</td>\n",
       "      <td>8.0</td>\n",
       "      <td>gas</td>\n",
       "      <td>132285.0</td>\n",
       "      <td>automatic</td>\n",
       "      <td>SUV</td>\n",
       "      <td>black</td>\n",
       "      <td>1.0</td>\n",
       "      <td>2019-01-31</td>\n",
       "      <td>24</td>\n",
       "    </tr>\n",
       "    <tr>\n",
       "      <th>15</th>\n",
       "      <td>17990</td>\n",
       "      <td>2013.0</td>\n",
       "      <td>ram 1500</td>\n",
       "      <td>excellent</td>\n",
       "      <td>8.0</td>\n",
       "      <td>gas</td>\n",
       "      <td>NaN</td>\n",
       "      <td>automatic</td>\n",
       "      <td>pickup</td>\n",
       "      <td>red</td>\n",
       "      <td>1.0</td>\n",
       "      <td>2018-05-15</td>\n",
       "      <td>111</td>\n",
       "    </tr>\n",
       "    <tr>\n",
       "      <th>16</th>\n",
       "      <td>14990</td>\n",
       "      <td>2010.0</td>\n",
       "      <td>ram 1500</td>\n",
       "      <td>excellent</td>\n",
       "      <td>8.0</td>\n",
       "      <td>gas</td>\n",
       "      <td>130725.0</td>\n",
       "      <td>automatic</td>\n",
       "      <td>pickup</td>\n",
       "      <td>red</td>\n",
       "      <td>1.0</td>\n",
       "      <td>2018-12-30</td>\n",
       "      <td>13</td>\n",
       "    </tr>\n",
       "    <tr>\n",
       "      <th>17</th>\n",
       "      <td>13990</td>\n",
       "      <td>2014.0</td>\n",
       "      <td>jeep cherokee</td>\n",
       "      <td>excellent</td>\n",
       "      <td>6.0</td>\n",
       "      <td>gas</td>\n",
       "      <td>100669.0</td>\n",
       "      <td>automatic</td>\n",
       "      <td>SUV</td>\n",
       "      <td>red</td>\n",
       "      <td>1.0</td>\n",
       "      <td>2018-08-16</td>\n",
       "      <td>25</td>\n",
       "    </tr>\n",
       "    <tr>\n",
       "      <th>18</th>\n",
       "      <td>12500</td>\n",
       "      <td>2013.0</td>\n",
       "      <td>chevrolet traverse</td>\n",
       "      <td>excellent</td>\n",
       "      <td>6.0</td>\n",
       "      <td>gas</td>\n",
       "      <td>128325.0</td>\n",
       "      <td>automatic</td>\n",
       "      <td>SUV</td>\n",
       "      <td>white</td>\n",
       "      <td>1.0</td>\n",
       "      <td>2019-04-09</td>\n",
       "      <td>13</td>\n",
       "    </tr>\n",
       "    <tr>\n",
       "      <th>19</th>\n",
       "      <td>13990</td>\n",
       "      <td>2018.0</td>\n",
       "      <td>hyundai elantra</td>\n",
       "      <td>excellent</td>\n",
       "      <td>4.0</td>\n",
       "      <td>gas</td>\n",
       "      <td>31932.0</td>\n",
       "      <td>automatic</td>\n",
       "      <td>sedan</td>\n",
       "      <td>red</td>\n",
       "      <td>NaN</td>\n",
       "      <td>2018-08-25</td>\n",
       "      <td>27</td>\n",
       "    </tr>\n",
       "  </tbody>\n",
       "</table>\n",
       "</div>"
      ],
      "text/plain": [
       "    price  model_year                     model  condition  cylinders fuel  \\\n",
       "0    9400      2011.0                    bmw x5       good        6.0  gas   \n",
       "1   25500         NaN                ford f-150       good        6.0  gas   \n",
       "2    5500      2013.0            hyundai sonata   like new        4.0  gas   \n",
       "3    1500      2003.0                ford f-150       fair        8.0  gas   \n",
       "4   14900      2017.0              chrysler 200  excellent        4.0  gas   \n",
       "5   14990      2014.0              chrysler 300  excellent        6.0  gas   \n",
       "6   12990      2015.0              toyota camry  excellent        4.0  gas   \n",
       "7   15990      2013.0               honda pilot  excellent        6.0  gas   \n",
       "8   11500      2012.0               kia sorento  excellent        4.0  gas   \n",
       "9    9200      2008.0               honda pilot  excellent        NaN  gas   \n",
       "10  19500      2011.0  chevrolet silverado 1500  excellent        8.0  gas   \n",
       "11   8990      2012.0              honda accord  excellent        4.0  gas   \n",
       "12  18990      2012.0                  ram 1500  excellent        8.0  gas   \n",
       "13  16500      2018.0            hyundai sonata  excellent        4.0  gas   \n",
       "14  12990      2009.0                 gmc yukon  excellent        8.0  gas   \n",
       "15  17990      2013.0                  ram 1500  excellent        8.0  gas   \n",
       "16  14990      2010.0                  ram 1500  excellent        8.0  gas   \n",
       "17  13990      2014.0             jeep cherokee  excellent        6.0  gas   \n",
       "18  12500      2013.0        chevrolet traverse  excellent        6.0  gas   \n",
       "19  13990      2018.0           hyundai elantra  excellent        4.0  gas   \n",
       "\n",
       "    odometer transmission    type paint_color  is_4wd date_posted  days_listed  \n",
       "0   145000.0    automatic     SUV         NaN     1.0  2018-06-23           19  \n",
       "1    88705.0    automatic  pickup       white     1.0  2018-10-19           50  \n",
       "2   110000.0    automatic   sedan         red     NaN  2019-02-07           79  \n",
       "3        NaN    automatic  pickup         NaN     NaN  2019-03-22            9  \n",
       "4    80903.0    automatic   sedan       black     NaN  2019-04-02           28  \n",
       "5    57954.0    automatic   sedan       black     1.0  2018-06-20           15  \n",
       "6    79212.0    automatic   sedan       white     NaN  2018-12-27           73  \n",
       "7   109473.0    automatic     SUV       black     1.0  2019-01-07           68  \n",
       "8   104174.0    automatic     SUV         NaN     1.0  2018-07-16           19  \n",
       "9   147191.0    automatic     SUV        blue     1.0  2019-02-15           17  \n",
       "10  128413.0    automatic  pickup       black     1.0  2018-09-17           38  \n",
       "11  111142.0    automatic   sedan        grey     NaN  2019-03-28           29  \n",
       "12  140742.0    automatic  pickup         NaN     1.0  2019-04-02           37  \n",
       "13   22104.0    automatic   sedan      silver     NaN  2019-01-14           29  \n",
       "14  132285.0    automatic     SUV       black     1.0  2019-01-31           24  \n",
       "15       NaN    automatic  pickup         red     1.0  2018-05-15          111  \n",
       "16  130725.0    automatic  pickup         red     1.0  2018-12-30           13  \n",
       "17  100669.0    automatic     SUV         red     1.0  2018-08-16           25  \n",
       "18  128325.0    automatic     SUV       white     1.0  2019-04-09           13  \n",
       "19   31932.0    automatic   sedan         red     NaN  2018-08-25           27  "
      ]
     },
     "execution_count": 3,
     "metadata": {},
     "output_type": "execute_result"
    }
   ],
   "source": [
    "df.head(20)"
   ]
  },
  {
   "cell_type": "markdown",
   "metadata": {},
   "source": [
    "Vamos a ver el tipo y número de datos que posee"
   ]
  },
  {
   "cell_type": "code",
   "execution_count": 4,
   "metadata": {
    "scrolled": false
   },
   "outputs": [
    {
     "name": "stdout",
     "output_type": "stream",
     "text": [
      "<class 'pandas.core.frame.DataFrame'>\n",
      "RangeIndex: 51525 entries, 0 to 51524\n",
      "Data columns (total 13 columns):\n",
      " #   Column        Non-Null Count  Dtype  \n",
      "---  ------        --------------  -----  \n",
      " 0   price         51525 non-null  int64  \n",
      " 1   model_year    47906 non-null  float64\n",
      " 2   model         51525 non-null  object \n",
      " 3   condition     51525 non-null  object \n",
      " 4   cylinders     46265 non-null  float64\n",
      " 5   fuel          51525 non-null  object \n",
      " 6   odometer      43633 non-null  float64\n",
      " 7   transmission  51525 non-null  object \n",
      " 8   type          51525 non-null  object \n",
      " 9   paint_color   42258 non-null  object \n",
      " 10  is_4wd        25572 non-null  float64\n",
      " 11  date_posted   51525 non-null  object \n",
      " 12  days_listed   51525 non-null  int64  \n",
      "dtypes: float64(4), int64(2), object(7)\n",
      "memory usage: 5.1+ MB\n"
     ]
    }
   ],
   "source": [
    "df.info()"
   ]
  },
  {
   "cell_type": "markdown",
   "metadata": {},
   "source": [
    "Podemos ver que hay varias columnas con datos ausentes, `date_posted` es del tipo object, pasa lo mismo con `price`, `is_4wd`, `cylinders` y `model_year` que poseen mal los tipos de datos y no deberia ser asi, ya vamos a tratar cada problema mas adelante"
   ]
  },
  {
   "cell_type": "code",
   "execution_count": 5,
   "metadata": {},
   "outputs": [
    {
     "data": {
      "text/plain": [
       "price               0\n",
       "model_year       3619\n",
       "model               0\n",
       "condition           0\n",
       "cylinders        5260\n",
       "fuel                0\n",
       "odometer         7892\n",
       "transmission        0\n",
       "type                0\n",
       "paint_color      9267\n",
       "is_4wd          25953\n",
       "date_posted         0\n",
       "days_listed         0\n",
       "dtype: int64"
      ]
     },
     "execution_count": 5,
     "metadata": {},
     "output_type": "execute_result"
    }
   ],
   "source": [
    "df.isna().sum()"
   ]
  },
  {
   "cell_type": "markdown",
   "metadata": {},
   "source": [
    "Aca podemos ver con mayor detalle el número de datos ausentes para cada columna, las cuales trataremos a continuación para rellenar los valores ausentes para un correcto analisis"
   ]
  },
  {
   "cell_type": "code",
   "execution_count": 6,
   "metadata": {},
   "outputs": [
    {
     "data": {
      "text/html": [
       "<div>\n",
       "<style scoped>\n",
       "    .dataframe tbody tr th:only-of-type {\n",
       "        vertical-align: middle;\n",
       "    }\n",
       "\n",
       "    .dataframe tbody tr th {\n",
       "        vertical-align: top;\n",
       "    }\n",
       "\n",
       "    .dataframe thead th {\n",
       "        text-align: right;\n",
       "    }\n",
       "</style>\n",
       "<table border=\"1\" class=\"dataframe\">\n",
       "  <thead>\n",
       "    <tr style=\"text-align: right;\">\n",
       "      <th></th>\n",
       "      <th>price</th>\n",
       "      <th>model_year</th>\n",
       "      <th>cylinders</th>\n",
       "      <th>odometer</th>\n",
       "      <th>is_4wd</th>\n",
       "      <th>days_listed</th>\n",
       "    </tr>\n",
       "  </thead>\n",
       "  <tbody>\n",
       "    <tr>\n",
       "      <th>count</th>\n",
       "      <td>51525.000000</td>\n",
       "      <td>47906.000000</td>\n",
       "      <td>46265.000000</td>\n",
       "      <td>43633.000000</td>\n",
       "      <td>25572.0</td>\n",
       "      <td>51525.00000</td>\n",
       "    </tr>\n",
       "    <tr>\n",
       "      <th>mean</th>\n",
       "      <td>12132.464920</td>\n",
       "      <td>2009.750470</td>\n",
       "      <td>6.125235</td>\n",
       "      <td>115553.461738</td>\n",
       "      <td>1.0</td>\n",
       "      <td>39.55476</td>\n",
       "    </tr>\n",
       "    <tr>\n",
       "      <th>std</th>\n",
       "      <td>10040.803015</td>\n",
       "      <td>6.282065</td>\n",
       "      <td>1.660360</td>\n",
       "      <td>65094.611341</td>\n",
       "      <td>0.0</td>\n",
       "      <td>28.20427</td>\n",
       "    </tr>\n",
       "    <tr>\n",
       "      <th>min</th>\n",
       "      <td>1.000000</td>\n",
       "      <td>1908.000000</td>\n",
       "      <td>3.000000</td>\n",
       "      <td>0.000000</td>\n",
       "      <td>1.0</td>\n",
       "      <td>0.00000</td>\n",
       "    </tr>\n",
       "    <tr>\n",
       "      <th>25%</th>\n",
       "      <td>5000.000000</td>\n",
       "      <td>2006.000000</td>\n",
       "      <td>4.000000</td>\n",
       "      <td>70000.000000</td>\n",
       "      <td>1.0</td>\n",
       "      <td>19.00000</td>\n",
       "    </tr>\n",
       "    <tr>\n",
       "      <th>50%</th>\n",
       "      <td>9000.000000</td>\n",
       "      <td>2011.000000</td>\n",
       "      <td>6.000000</td>\n",
       "      <td>113000.000000</td>\n",
       "      <td>1.0</td>\n",
       "      <td>33.00000</td>\n",
       "    </tr>\n",
       "    <tr>\n",
       "      <th>75%</th>\n",
       "      <td>16839.000000</td>\n",
       "      <td>2014.000000</td>\n",
       "      <td>8.000000</td>\n",
       "      <td>155000.000000</td>\n",
       "      <td>1.0</td>\n",
       "      <td>53.00000</td>\n",
       "    </tr>\n",
       "    <tr>\n",
       "      <th>max</th>\n",
       "      <td>375000.000000</td>\n",
       "      <td>2019.000000</td>\n",
       "      <td>12.000000</td>\n",
       "      <td>990000.000000</td>\n",
       "      <td>1.0</td>\n",
       "      <td>271.00000</td>\n",
       "    </tr>\n",
       "  </tbody>\n",
       "</table>\n",
       "</div>"
      ],
      "text/plain": [
       "               price    model_year     cylinders       odometer   is_4wd  \\\n",
       "count   51525.000000  47906.000000  46265.000000   43633.000000  25572.0   \n",
       "mean    12132.464920   2009.750470      6.125235  115553.461738      1.0   \n",
       "std     10040.803015      6.282065      1.660360   65094.611341      0.0   \n",
       "min         1.000000   1908.000000      3.000000       0.000000      1.0   \n",
       "25%      5000.000000   2006.000000      4.000000   70000.000000      1.0   \n",
       "50%      9000.000000   2011.000000      6.000000  113000.000000      1.0   \n",
       "75%     16839.000000   2014.000000      8.000000  155000.000000      1.0   \n",
       "max    375000.000000   2019.000000     12.000000  990000.000000      1.0   \n",
       "\n",
       "       days_listed  \n",
       "count  51525.00000  \n",
       "mean      39.55476  \n",
       "std       28.20427  \n",
       "min        0.00000  \n",
       "25%       19.00000  \n",
       "50%       33.00000  \n",
       "75%       53.00000  \n",
       "max      271.00000  "
      ]
     },
     "execution_count": 6,
     "metadata": {},
     "output_type": "execute_result"
    }
   ],
   "source": [
    "df.describe()"
   ]
  },
  {
   "cell_type": "markdown",
   "metadata": {},
   "source": [
    "### Conclusiones y siguientes pasos\n",
    "\n",
    "Por el momento se observan datos ausentes en 5 columnas, hay datos raros como ser precios a 1 dolar, 0 millas y 0 días publicados, seria precipitado sacar conclusiones en esta etapa del analisis ya que faltan datos que podrian llegar a cambiar los valores que se observan.\n",
    "A continuación se van a rellenar los valores ausentes y analisar nuevamente estos\n"
   ]
  },
  {
   "cell_type": "markdown",
   "metadata": {},
   "source": [
    "## Tratar los valores ausentes "
   ]
  },
  {
   "cell_type": "markdown",
   "metadata": {},
   "source": [
    "Vamos a comenzar con rellenar los valores para 4wd, como son valores  booleanos que se indentifican con 1 si los vehículos cuentan con tracción en las 4 ruedas, en este caso solo se relleno cuando contaban con 4wd entonces en los vehículos que no cuentan con 4wd directamente se obvio el relleno, produciendo los valores ausentes.\n"
   ]
  },
  {
   "cell_type": "code",
   "execution_count": 7,
   "metadata": {},
   "outputs": [
    {
     "data": {
      "text/plain": [
       "25953"
      ]
     },
     "execution_count": 7,
     "metadata": {},
     "output_type": "execute_result"
    }
   ],
   "source": [
    "df['is_4wd'].isna().sum()"
   ]
  },
  {
   "cell_type": "markdown",
   "metadata": {},
   "source": [
    "Voy a rellenar los valores ausentes como 0, como deberia haber sido desde un principio."
   ]
  },
  {
   "cell_type": "code",
   "execution_count": 8,
   "metadata": {},
   "outputs": [],
   "source": [
    "df['is_4wd'] = df['is_4wd'].fillna('0')\n"
   ]
  },
  {
   "cell_type": "markdown",
   "metadata": {},
   "source": [
    "Nos vamos a fijar si se aplicaron los cambios"
   ]
  },
  {
   "cell_type": "code",
   "execution_count": 9,
   "metadata": {},
   "outputs": [
    {
     "data": {
      "text/plain": [
       "0"
      ]
     },
     "execution_count": 9,
     "metadata": {},
     "output_type": "execute_result"
    }
   ],
   "source": [
    "df['is_4wd'].isna().sum()"
   ]
  },
  {
   "cell_type": "markdown",
   "metadata": {},
   "source": [
    "Veamos los valores NaN  de model_year \n"
   ]
  },
  {
   "cell_type": "code",
   "execution_count": 10,
   "metadata": {},
   "outputs": [
    {
     "data": {
      "text/plain": [
       "array([2011.,   nan, 2013., 2003., 2017., 2014., 2015., 2012., 2008.,\n",
       "       2018., 2009., 2010., 2007., 2004., 2005., 2001., 2006., 1966.,\n",
       "       1994., 2019., 2000., 2016., 1993., 1999., 1997., 2002., 1981.,\n",
       "       1995., 1996., 1975., 1998., 1985., 1977., 1987., 1974., 1990.,\n",
       "       1992., 1991., 1972., 1967., 1988., 1969., 1989., 1978., 1965.,\n",
       "       1979., 1968., 1986., 1980., 1964., 1963., 1984., 1982., 1973.,\n",
       "       1970., 1955., 1971., 1976., 1983., 1954., 1962., 1948., 1960.,\n",
       "       1908., 1961., 1936., 1949., 1958., 1929.])"
      ]
     },
     "execution_count": 10,
     "metadata": {},
     "output_type": "execute_result"
    }
   ],
   "source": [
    "df['model_year'].unique()\n"
   ]
  },
  {
   "cell_type": "markdown",
   "metadata": {},
   "source": [
    "Voy a rellenar los datos NaN de los vehículos con los modelos de los vehículos, con la mediana ya que la media tiene un desvio standar de 6 años y sumar o restar 6 años de un vehículo puede influir mucho en el valor final de los vehiculos y  luego confirmar si se aplicaron los cambios"
   ]
  },
  {
   "cell_type": "code",
   "execution_count": 11,
   "metadata": {},
   "outputs": [
    {
     "data": {
      "text/plain": [
       "0"
      ]
     },
     "execution_count": 11,
     "metadata": {},
     "output_type": "execute_result"
    }
   ],
   "source": [
    "df['model_year'] = df['model_year'].fillna(df.groupby('model')['model_year'].transform('median'))\n",
    "df['model_year'].isna().sum()"
   ]
  },
  {
   "cell_type": "markdown",
   "metadata": {},
   "source": [
    "Ahora vamos a realizar lo mismo con las cilindradas de los modelos, en este caso tambien voy a usar la mediana ya que coincide con la media"
   ]
  },
  {
   "cell_type": "code",
   "execution_count": 12,
   "metadata": {},
   "outputs": [
    {
     "data": {
      "text/plain": [
       "0"
      ]
     },
     "execution_count": 12,
     "metadata": {},
     "output_type": "execute_result"
    }
   ],
   "source": [
    "df['cylinders'] = df['cylinders'].fillna(df.groupby('model')['cylinders'].transform('median'))\n",
    "df['cylinders'].isna().sum()"
   ]
  },
  {
   "cell_type": "markdown",
   "metadata": {},
   "source": [
    "Aplicamos lo mismo para el odometro, usando la media ya que considero que es un mejor estadistico y representa un valor mas preciso de los valores reales\n"
   ]
  },
  {
   "cell_type": "code",
   "execution_count": 13,
   "metadata": {},
   "outputs": [
    {
     "data": {
      "text/plain": [
       "0"
      ]
     },
     "execution_count": 13,
     "metadata": {},
     "output_type": "execute_result"
    }
   ],
   "source": [
    "df['odometer'] = df['odometer'].fillna(df.groupby('cylinders')['odometer'].transform('mean'))\n",
    "df['odometer'].isna().sum()"
   ]
  },
  {
   "cell_type": "markdown",
   "metadata": {},
   "source": [
    "Veamos como se conforman los valores de la pintura\n"
   ]
  },
  {
   "cell_type": "code",
   "execution_count": 14,
   "metadata": {},
   "outputs": [
    {
     "data": {
      "text/plain": [
       "white     10029\n",
       "black      7692\n",
       "silver     6244\n",
       "grey       5037\n",
       "blue       4475\n",
       "red        4421\n",
       "green      1396\n",
       "brown      1223\n",
       "custom     1153\n",
       "yellow      255\n",
       "orange      231\n",
       "purple      102\n",
       "Name: paint_color, dtype: int64"
      ]
     },
     "execution_count": 14,
     "metadata": {},
     "output_type": "execute_result"
    }
   ],
   "source": [
    "df['paint_color'].value_counts()"
   ]
  },
  {
   "cell_type": "markdown",
   "metadata": {},
   "source": [
    "Despues de muchas pruebas y errores decidi rellenar los valores ausentes como desconocido ('unknown'), no se podian eliminar los valores ausentes ya que eran demaciados y es solo una variable cualitativa"
   ]
  },
  {
   "cell_type": "code",
   "execution_count": 15,
   "metadata": {},
   "outputs": [
    {
     "data": {
      "text/plain": [
       "0"
      ]
     },
     "execution_count": 15,
     "metadata": {},
     "output_type": "execute_result"
    }
   ],
   "source": [
    "df['paint_color'] = df['paint_color'].fillna('unknown')\n",
    "df['paint_color'].isna().sum()"
   ]
  },
  {
   "cell_type": "markdown",
   "metadata": {},
   "source": [
    "Veamos si se realizaron el relleno de los valores ausentes correctamente "
   ]
  },
  {
   "cell_type": "code",
   "execution_count": 16,
   "metadata": {},
   "outputs": [
    {
     "data": {
      "text/plain": [
       "price           0\n",
       "model_year      0\n",
       "model           0\n",
       "condition       0\n",
       "cylinders       0\n",
       "fuel            0\n",
       "odometer        0\n",
       "transmission    0\n",
       "type            0\n",
       "paint_color     0\n",
       "is_4wd          0\n",
       "date_posted     0\n",
       "days_listed     0\n",
       "dtype: int64"
      ]
     },
     "execution_count": 16,
     "metadata": {},
     "output_type": "execute_result"
    }
   ],
   "source": [
    "df.isna().sum()"
   ]
  },
  {
   "cell_type": "markdown",
   "metadata": {},
   "source": [
    "## Corregir los Dtype"
   ]
  },
  {
   "cell_type": "markdown",
   "metadata": {},
   "source": [
    "Corregimos el tipo de datos de `date_posted` ya que deberia ser un datetime"
   ]
  },
  {
   "cell_type": "code",
   "execution_count": 17,
   "metadata": {},
   "outputs": [],
   "source": [
    "df['date_posted'] = pd.to_datetime(df['date_posted'])"
   ]
  },
  {
   "cell_type": "markdown",
   "metadata": {},
   "source": [
    "Adicionalmente se van a cambiar los valores float de `model_year` y `cylinders` a int,  `is_4wd` a booleano y `price` como float"
   ]
  },
  {
   "cell_type": "code",
   "execution_count": 18,
   "metadata": {},
   "outputs": [],
   "source": [
    "df['model_year'] = df['model_year'].astype(int)\n",
    "df['cylinders'] = df['cylinders'].astype(int)\n",
    "df['is_4wd'] = df['is_4wd'].astype(bool)\n",
    "df['price'] = df['price'].astype(float)"
   ]
  },
  {
   "cell_type": "markdown",
   "metadata": {},
   "source": [
    "Revisemos los datos nuevamente"
   ]
  },
  {
   "cell_type": "code",
   "execution_count": 19,
   "metadata": {},
   "outputs": [
    {
     "name": "stdout",
     "output_type": "stream",
     "text": [
      "<class 'pandas.core.frame.DataFrame'>\n",
      "RangeIndex: 51525 entries, 0 to 51524\n",
      "Data columns (total 13 columns):\n",
      " #   Column        Non-Null Count  Dtype         \n",
      "---  ------        --------------  -----         \n",
      " 0   price         51525 non-null  float64       \n",
      " 1   model_year    51525 non-null  int64         \n",
      " 2   model         51525 non-null  object        \n",
      " 3   condition     51525 non-null  object        \n",
      " 4   cylinders     51525 non-null  int64         \n",
      " 5   fuel          51525 non-null  object        \n",
      " 6   odometer      51525 non-null  float64       \n",
      " 7   transmission  51525 non-null  object        \n",
      " 8   type          51525 non-null  object        \n",
      " 9   paint_color   51525 non-null  object        \n",
      " 10  is_4wd        51525 non-null  bool          \n",
      " 11  date_posted   51525 non-null  datetime64[ns]\n",
      " 12  days_listed   51525 non-null  int64         \n",
      "dtypes: bool(1), datetime64[ns](1), float64(2), int64(3), object(6)\n",
      "memory usage: 4.8+ MB\n"
     ]
    }
   ],
   "source": [
    "df.info()"
   ]
  },
  {
   "cell_type": "markdown",
   "metadata": {},
   "source": [
    "## Enriquecer datos"
   ]
  },
  {
   "cell_type": "markdown",
   "metadata": {},
   "source": [
    "Vamos agregar datos para facilitar el análisis"
   ]
  },
  {
   "cell_type": "code",
   "execution_count": 20,
   "metadata": {
    "scrolled": false
   },
   "outputs": [
    {
     "data": {
      "text/html": [
       "<div>\n",
       "<style scoped>\n",
       "    .dataframe tbody tr th:only-of-type {\n",
       "        vertical-align: middle;\n",
       "    }\n",
       "\n",
       "    .dataframe tbody tr th {\n",
       "        vertical-align: top;\n",
       "    }\n",
       "\n",
       "    .dataframe thead th {\n",
       "        text-align: right;\n",
       "    }\n",
       "</style>\n",
       "<table border=\"1\" class=\"dataframe\">\n",
       "  <thead>\n",
       "    <tr style=\"text-align: right;\">\n",
       "      <th></th>\n",
       "      <th>price</th>\n",
       "      <th>model_year</th>\n",
       "      <th>model</th>\n",
       "      <th>condition</th>\n",
       "      <th>cylinders</th>\n",
       "      <th>fuel</th>\n",
       "      <th>odometer</th>\n",
       "      <th>transmission</th>\n",
       "      <th>type</th>\n",
       "      <th>paint_color</th>\n",
       "      <th>is_4wd</th>\n",
       "      <th>date_posted</th>\n",
       "      <th>days_listed</th>\n",
       "      <th>date_posted_year</th>\n",
       "      <th>month_posted</th>\n",
       "      <th>wd_posted</th>\n",
       "    </tr>\n",
       "  </thead>\n",
       "  <tbody>\n",
       "    <tr>\n",
       "      <th>0</th>\n",
       "      <td>9400.0</td>\n",
       "      <td>2011</td>\n",
       "      <td>bmw x5</td>\n",
       "      <td>good</td>\n",
       "      <td>6</td>\n",
       "      <td>gas</td>\n",
       "      <td>145000.000000</td>\n",
       "      <td>automatic</td>\n",
       "      <td>SUV</td>\n",
       "      <td>unknown</td>\n",
       "      <td>True</td>\n",
       "      <td>2018-06-23</td>\n",
       "      <td>19</td>\n",
       "      <td>2018</td>\n",
       "      <td>6</td>\n",
       "      <td>5</td>\n",
       "    </tr>\n",
       "    <tr>\n",
       "      <th>1</th>\n",
       "      <td>25500.0</td>\n",
       "      <td>2011</td>\n",
       "      <td>ford f-150</td>\n",
       "      <td>good</td>\n",
       "      <td>6</td>\n",
       "      <td>gas</td>\n",
       "      <td>88705.000000</td>\n",
       "      <td>automatic</td>\n",
       "      <td>pickup</td>\n",
       "      <td>white</td>\n",
       "      <td>True</td>\n",
       "      <td>2018-10-19</td>\n",
       "      <td>50</td>\n",
       "      <td>2018</td>\n",
       "      <td>10</td>\n",
       "      <td>4</td>\n",
       "    </tr>\n",
       "    <tr>\n",
       "      <th>2</th>\n",
       "      <td>5500.0</td>\n",
       "      <td>2013</td>\n",
       "      <td>hyundai sonata</td>\n",
       "      <td>like new</td>\n",
       "      <td>4</td>\n",
       "      <td>gas</td>\n",
       "      <td>110000.000000</td>\n",
       "      <td>automatic</td>\n",
       "      <td>sedan</td>\n",
       "      <td>red</td>\n",
       "      <td>True</td>\n",
       "      <td>2019-02-07</td>\n",
       "      <td>79</td>\n",
       "      <td>2019</td>\n",
       "      <td>2</td>\n",
       "      <td>3</td>\n",
       "    </tr>\n",
       "    <tr>\n",
       "      <th>3</th>\n",
       "      <td>1500.0</td>\n",
       "      <td>2003</td>\n",
       "      <td>ford f-150</td>\n",
       "      <td>fair</td>\n",
       "      <td>8</td>\n",
       "      <td>gas</td>\n",
       "      <td>124383.376062</td>\n",
       "      <td>automatic</td>\n",
       "      <td>pickup</td>\n",
       "      <td>unknown</td>\n",
       "      <td>True</td>\n",
       "      <td>2019-03-22</td>\n",
       "      <td>9</td>\n",
       "      <td>2019</td>\n",
       "      <td>3</td>\n",
       "      <td>4</td>\n",
       "    </tr>\n",
       "    <tr>\n",
       "      <th>4</th>\n",
       "      <td>14900.0</td>\n",
       "      <td>2017</td>\n",
       "      <td>chrysler 200</td>\n",
       "      <td>excellent</td>\n",
       "      <td>4</td>\n",
       "      <td>gas</td>\n",
       "      <td>80903.000000</td>\n",
       "      <td>automatic</td>\n",
       "      <td>sedan</td>\n",
       "      <td>black</td>\n",
       "      <td>True</td>\n",
       "      <td>2019-04-02</td>\n",
       "      <td>28</td>\n",
       "      <td>2019</td>\n",
       "      <td>4</td>\n",
       "      <td>1</td>\n",
       "    </tr>\n",
       "    <tr>\n",
       "      <th>5</th>\n",
       "      <td>14990.0</td>\n",
       "      <td>2014</td>\n",
       "      <td>chrysler 300</td>\n",
       "      <td>excellent</td>\n",
       "      <td>6</td>\n",
       "      <td>gas</td>\n",
       "      <td>57954.000000</td>\n",
       "      <td>automatic</td>\n",
       "      <td>sedan</td>\n",
       "      <td>black</td>\n",
       "      <td>True</td>\n",
       "      <td>2018-06-20</td>\n",
       "      <td>15</td>\n",
       "      <td>2018</td>\n",
       "      <td>6</td>\n",
       "      <td>2</td>\n",
       "    </tr>\n",
       "    <tr>\n",
       "      <th>6</th>\n",
       "      <td>12990.0</td>\n",
       "      <td>2015</td>\n",
       "      <td>toyota camry</td>\n",
       "      <td>excellent</td>\n",
       "      <td>4</td>\n",
       "      <td>gas</td>\n",
       "      <td>79212.000000</td>\n",
       "      <td>automatic</td>\n",
       "      <td>sedan</td>\n",
       "      <td>white</td>\n",
       "      <td>True</td>\n",
       "      <td>2018-12-27</td>\n",
       "      <td>73</td>\n",
       "      <td>2018</td>\n",
       "      <td>12</td>\n",
       "      <td>3</td>\n",
       "    </tr>\n",
       "    <tr>\n",
       "      <th>7</th>\n",
       "      <td>15990.0</td>\n",
       "      <td>2013</td>\n",
       "      <td>honda pilot</td>\n",
       "      <td>excellent</td>\n",
       "      <td>6</td>\n",
       "      <td>gas</td>\n",
       "      <td>109473.000000</td>\n",
       "      <td>automatic</td>\n",
       "      <td>SUV</td>\n",
       "      <td>black</td>\n",
       "      <td>True</td>\n",
       "      <td>2019-01-07</td>\n",
       "      <td>68</td>\n",
       "      <td>2019</td>\n",
       "      <td>1</td>\n",
       "      <td>0</td>\n",
       "    </tr>\n",
       "    <tr>\n",
       "      <th>8</th>\n",
       "      <td>11500.0</td>\n",
       "      <td>2012</td>\n",
       "      <td>kia sorento</td>\n",
       "      <td>excellent</td>\n",
       "      <td>4</td>\n",
       "      <td>gas</td>\n",
       "      <td>104174.000000</td>\n",
       "      <td>automatic</td>\n",
       "      <td>SUV</td>\n",
       "      <td>unknown</td>\n",
       "      <td>True</td>\n",
       "      <td>2018-07-16</td>\n",
       "      <td>19</td>\n",
       "      <td>2018</td>\n",
       "      <td>7</td>\n",
       "      <td>0</td>\n",
       "    </tr>\n",
       "    <tr>\n",
       "      <th>9</th>\n",
       "      <td>9200.0</td>\n",
       "      <td>2008</td>\n",
       "      <td>honda pilot</td>\n",
       "      <td>excellent</td>\n",
       "      <td>6</td>\n",
       "      <td>gas</td>\n",
       "      <td>147191.000000</td>\n",
       "      <td>automatic</td>\n",
       "      <td>SUV</td>\n",
       "      <td>blue</td>\n",
       "      <td>True</td>\n",
       "      <td>2019-02-15</td>\n",
       "      <td>17</td>\n",
       "      <td>2019</td>\n",
       "      <td>2</td>\n",
       "      <td>4</td>\n",
       "    </tr>\n",
       "  </tbody>\n",
       "</table>\n",
       "</div>"
      ],
      "text/plain": [
       "     price  model_year           model  condition  cylinders fuel  \\\n",
       "0   9400.0        2011          bmw x5       good          6  gas   \n",
       "1  25500.0        2011      ford f-150       good          6  gas   \n",
       "2   5500.0        2013  hyundai sonata   like new          4  gas   \n",
       "3   1500.0        2003      ford f-150       fair          8  gas   \n",
       "4  14900.0        2017    chrysler 200  excellent          4  gas   \n",
       "5  14990.0        2014    chrysler 300  excellent          6  gas   \n",
       "6  12990.0        2015    toyota camry  excellent          4  gas   \n",
       "7  15990.0        2013     honda pilot  excellent          6  gas   \n",
       "8  11500.0        2012     kia sorento  excellent          4  gas   \n",
       "9   9200.0        2008     honda pilot  excellent          6  gas   \n",
       "\n",
       "        odometer transmission    type paint_color  is_4wd date_posted  \\\n",
       "0  145000.000000    automatic     SUV     unknown    True  2018-06-23   \n",
       "1   88705.000000    automatic  pickup       white    True  2018-10-19   \n",
       "2  110000.000000    automatic   sedan         red    True  2019-02-07   \n",
       "3  124383.376062    automatic  pickup     unknown    True  2019-03-22   \n",
       "4   80903.000000    automatic   sedan       black    True  2019-04-02   \n",
       "5   57954.000000    automatic   sedan       black    True  2018-06-20   \n",
       "6   79212.000000    automatic   sedan       white    True  2018-12-27   \n",
       "7  109473.000000    automatic     SUV       black    True  2019-01-07   \n",
       "8  104174.000000    automatic     SUV     unknown    True  2018-07-16   \n",
       "9  147191.000000    automatic     SUV        blue    True  2019-02-15   \n",
       "\n",
       "   days_listed  date_posted_year  month_posted  wd_posted  \n",
       "0           19              2018             6          5  \n",
       "1           50              2018            10          4  \n",
       "2           79              2019             2          3  \n",
       "3            9              2019             3          4  \n",
       "4           28              2019             4          1  \n",
       "5           15              2018             6          2  \n",
       "6           73              2018            12          3  \n",
       "7           68              2019             1          0  \n",
       "8           19              2018             7          0  \n",
       "9           17              2019             2          4  "
      ]
     },
     "execution_count": 20,
     "metadata": {},
     "output_type": "execute_result"
    }
   ],
   "source": [
    "df['date_posted_year'] = df['date_posted'].dt.year\n",
    "df['month_posted'] = df['date_posted'].dt.month\n",
    "df['wd_posted'] = df['date_posted'].dt.weekday\n",
    "\n",
    "df.head(10)"
   ]
  },
  {
   "cell_type": "code",
   "execution_count": 21,
   "metadata": {},
   "outputs": [
    {
     "data": {
      "text/plain": [
       "price                      float64\n",
       "model_year                   int64\n",
       "model                       object\n",
       "condition                   object\n",
       "cylinders                    int64\n",
       "fuel                        object\n",
       "odometer                   float64\n",
       "transmission                object\n",
       "type                        object\n",
       "paint_color                 object\n",
       "is_4wd                        bool\n",
       "date_posted         datetime64[ns]\n",
       "days_listed                  int64\n",
       "date_posted_year             int64\n",
       "month_posted                 int64\n",
       "wd_posted                    int64\n",
       "dtype: object"
      ]
     },
     "execution_count": 21,
     "metadata": {},
     "output_type": "execute_result"
    }
   ],
   "source": [
    "df.dtypes"
   ]
  },
  {
   "cell_type": "markdown",
   "metadata": {},
   "source": [
    "Agregemos la antigüedad del vehículo para que sea mas facil visualizar la relación de los precios/vehículos"
   ]
  },
  {
   "cell_type": "code",
   "execution_count": 22,
   "metadata": {},
   "outputs": [
    {
     "data": {
      "text/html": [
       "<div>\n",
       "<style scoped>\n",
       "    .dataframe tbody tr th:only-of-type {\n",
       "        vertical-align: middle;\n",
       "    }\n",
       "\n",
       "    .dataframe tbody tr th {\n",
       "        vertical-align: top;\n",
       "    }\n",
       "\n",
       "    .dataframe thead th {\n",
       "        text-align: right;\n",
       "    }\n",
       "</style>\n",
       "<table border=\"1\" class=\"dataframe\">\n",
       "  <thead>\n",
       "    <tr style=\"text-align: right;\">\n",
       "      <th></th>\n",
       "      <th>price</th>\n",
       "      <th>model_year</th>\n",
       "      <th>model</th>\n",
       "      <th>condition</th>\n",
       "      <th>cylinders</th>\n",
       "      <th>fuel</th>\n",
       "      <th>odometer</th>\n",
       "      <th>transmission</th>\n",
       "      <th>type</th>\n",
       "      <th>paint_color</th>\n",
       "      <th>is_4wd</th>\n",
       "      <th>date_posted</th>\n",
       "      <th>days_listed</th>\n",
       "      <th>date_posted_year</th>\n",
       "      <th>month_posted</th>\n",
       "      <th>wd_posted</th>\n",
       "      <th>vehicle_age</th>\n",
       "    </tr>\n",
       "  </thead>\n",
       "  <tbody>\n",
       "    <tr>\n",
       "      <th>0</th>\n",
       "      <td>9400.0</td>\n",
       "      <td>2011</td>\n",
       "      <td>bmw x5</td>\n",
       "      <td>good</td>\n",
       "      <td>6</td>\n",
       "      <td>gas</td>\n",
       "      <td>145000.000000</td>\n",
       "      <td>automatic</td>\n",
       "      <td>SUV</td>\n",
       "      <td>unknown</td>\n",
       "      <td>True</td>\n",
       "      <td>2018-06-23</td>\n",
       "      <td>19</td>\n",
       "      <td>2018</td>\n",
       "      <td>6</td>\n",
       "      <td>5</td>\n",
       "      <td>8</td>\n",
       "    </tr>\n",
       "    <tr>\n",
       "      <th>1</th>\n",
       "      <td>25500.0</td>\n",
       "      <td>2011</td>\n",
       "      <td>ford f-150</td>\n",
       "      <td>good</td>\n",
       "      <td>6</td>\n",
       "      <td>gas</td>\n",
       "      <td>88705.000000</td>\n",
       "      <td>automatic</td>\n",
       "      <td>pickup</td>\n",
       "      <td>white</td>\n",
       "      <td>True</td>\n",
       "      <td>2018-10-19</td>\n",
       "      <td>50</td>\n",
       "      <td>2018</td>\n",
       "      <td>10</td>\n",
       "      <td>4</td>\n",
       "      <td>8</td>\n",
       "    </tr>\n",
       "    <tr>\n",
       "      <th>2</th>\n",
       "      <td>5500.0</td>\n",
       "      <td>2013</td>\n",
       "      <td>hyundai sonata</td>\n",
       "      <td>like new</td>\n",
       "      <td>4</td>\n",
       "      <td>gas</td>\n",
       "      <td>110000.000000</td>\n",
       "      <td>automatic</td>\n",
       "      <td>sedan</td>\n",
       "      <td>red</td>\n",
       "      <td>True</td>\n",
       "      <td>2019-02-07</td>\n",
       "      <td>79</td>\n",
       "      <td>2019</td>\n",
       "      <td>2</td>\n",
       "      <td>3</td>\n",
       "      <td>7</td>\n",
       "    </tr>\n",
       "    <tr>\n",
       "      <th>3</th>\n",
       "      <td>1500.0</td>\n",
       "      <td>2003</td>\n",
       "      <td>ford f-150</td>\n",
       "      <td>fair</td>\n",
       "      <td>8</td>\n",
       "      <td>gas</td>\n",
       "      <td>124383.376062</td>\n",
       "      <td>automatic</td>\n",
       "      <td>pickup</td>\n",
       "      <td>unknown</td>\n",
       "      <td>True</td>\n",
       "      <td>2019-03-22</td>\n",
       "      <td>9</td>\n",
       "      <td>2019</td>\n",
       "      <td>3</td>\n",
       "      <td>4</td>\n",
       "      <td>17</td>\n",
       "    </tr>\n",
       "    <tr>\n",
       "      <th>4</th>\n",
       "      <td>14900.0</td>\n",
       "      <td>2017</td>\n",
       "      <td>chrysler 200</td>\n",
       "      <td>excellent</td>\n",
       "      <td>4</td>\n",
       "      <td>gas</td>\n",
       "      <td>80903.000000</td>\n",
       "      <td>automatic</td>\n",
       "      <td>sedan</td>\n",
       "      <td>black</td>\n",
       "      <td>True</td>\n",
       "      <td>2019-04-02</td>\n",
       "      <td>28</td>\n",
       "      <td>2019</td>\n",
       "      <td>4</td>\n",
       "      <td>1</td>\n",
       "      <td>3</td>\n",
       "    </tr>\n",
       "  </tbody>\n",
       "</table>\n",
       "</div>"
      ],
      "text/plain": [
       "     price  model_year           model  condition  cylinders fuel  \\\n",
       "0   9400.0        2011          bmw x5       good          6  gas   \n",
       "1  25500.0        2011      ford f-150       good          6  gas   \n",
       "2   5500.0        2013  hyundai sonata   like new          4  gas   \n",
       "3   1500.0        2003      ford f-150       fair          8  gas   \n",
       "4  14900.0        2017    chrysler 200  excellent          4  gas   \n",
       "\n",
       "        odometer transmission    type paint_color  is_4wd date_posted  \\\n",
       "0  145000.000000    automatic     SUV     unknown    True  2018-06-23   \n",
       "1   88705.000000    automatic  pickup       white    True  2018-10-19   \n",
       "2  110000.000000    automatic   sedan         red    True  2019-02-07   \n",
       "3  124383.376062    automatic  pickup     unknown    True  2019-03-22   \n",
       "4   80903.000000    automatic   sedan       black    True  2019-04-02   \n",
       "\n",
       "   days_listed  date_posted_year  month_posted  wd_posted  vehicle_age  \n",
       "0           19              2018             6          5            8  \n",
       "1           50              2018            10          4            8  \n",
       "2           79              2019             2          3            7  \n",
       "3            9              2019             3          4           17  \n",
       "4           28              2019             4          1            3  "
      ]
     },
     "execution_count": 22,
     "metadata": {},
     "output_type": "execute_result"
    }
   ],
   "source": [
    "df['vehicle_age'] = df['date_posted_year'] - df['model_year'] + 1\n",
    "df.head()"
   ]
  },
  {
   "cell_type": "code",
   "execution_count": 23,
   "metadata": {},
   "outputs": [
    {
     "data": {
      "text/plain": [
       "price                      float64\n",
       "model_year                   int64\n",
       "model                       object\n",
       "condition                   object\n",
       "cylinders                    int64\n",
       "fuel                        object\n",
       "odometer                   float64\n",
       "transmission                object\n",
       "type                        object\n",
       "paint_color                 object\n",
       "is_4wd                        bool\n",
       "date_posted         datetime64[ns]\n",
       "days_listed                  int64\n",
       "date_posted_year           float64\n",
       "month_posted                 int64\n",
       "wd_posted                    int64\n",
       "vehicle_age                  int64\n",
       "dtype: object"
      ]
     },
     "execution_count": 23,
     "metadata": {},
     "output_type": "execute_result"
    }
   ],
   "source": [
    "df['date_posted_year'] = df['date_posted_year'].astype('float')\n",
    "df.dtypes"
   ]
  },
  {
   "cell_type": "markdown",
   "metadata": {},
   "source": [
    "Ahora que tenemos la antigüedad de los vehículos, podemos calcular las millas por años y comparar luego con el estado de los vehículos dependiendo de las millas recorridas por año."
   ]
  },
  {
   "cell_type": "code",
   "execution_count": 24,
   "metadata": {},
   "outputs": [
    {
     "data": {
      "text/html": [
       "<div>\n",
       "<style scoped>\n",
       "    .dataframe tbody tr th:only-of-type {\n",
       "        vertical-align: middle;\n",
       "    }\n",
       "\n",
       "    .dataframe tbody tr th {\n",
       "        vertical-align: top;\n",
       "    }\n",
       "\n",
       "    .dataframe thead th {\n",
       "        text-align: right;\n",
       "    }\n",
       "</style>\n",
       "<table border=\"1\" class=\"dataframe\">\n",
       "  <thead>\n",
       "    <tr style=\"text-align: right;\">\n",
       "      <th></th>\n",
       "      <th>price</th>\n",
       "      <th>model_year</th>\n",
       "      <th>model</th>\n",
       "      <th>condition</th>\n",
       "      <th>cylinders</th>\n",
       "      <th>fuel</th>\n",
       "      <th>odometer</th>\n",
       "      <th>transmission</th>\n",
       "      <th>type</th>\n",
       "      <th>paint_color</th>\n",
       "      <th>is_4wd</th>\n",
       "      <th>date_posted</th>\n",
       "      <th>days_listed</th>\n",
       "      <th>date_posted_year</th>\n",
       "      <th>month_posted</th>\n",
       "      <th>wd_posted</th>\n",
       "      <th>vehicle_age</th>\n",
       "      <th>miles_year</th>\n",
       "    </tr>\n",
       "  </thead>\n",
       "  <tbody>\n",
       "    <tr>\n",
       "      <th>0</th>\n",
       "      <td>9400.0</td>\n",
       "      <td>2011</td>\n",
       "      <td>bmw x5</td>\n",
       "      <td>good</td>\n",
       "      <td>6</td>\n",
       "      <td>gas</td>\n",
       "      <td>145000.000000</td>\n",
       "      <td>automatic</td>\n",
       "      <td>SUV</td>\n",
       "      <td>unknown</td>\n",
       "      <td>True</td>\n",
       "      <td>2018-06-23</td>\n",
       "      <td>19</td>\n",
       "      <td>2018.0</td>\n",
       "      <td>6</td>\n",
       "      <td>5</td>\n",
       "      <td>8</td>\n",
       "      <td>18125.000000</td>\n",
       "    </tr>\n",
       "    <tr>\n",
       "      <th>1</th>\n",
       "      <td>25500.0</td>\n",
       "      <td>2011</td>\n",
       "      <td>ford f-150</td>\n",
       "      <td>good</td>\n",
       "      <td>6</td>\n",
       "      <td>gas</td>\n",
       "      <td>88705.000000</td>\n",
       "      <td>automatic</td>\n",
       "      <td>pickup</td>\n",
       "      <td>white</td>\n",
       "      <td>True</td>\n",
       "      <td>2018-10-19</td>\n",
       "      <td>50</td>\n",
       "      <td>2018.0</td>\n",
       "      <td>10</td>\n",
       "      <td>4</td>\n",
       "      <td>8</td>\n",
       "      <td>11088.125000</td>\n",
       "    </tr>\n",
       "    <tr>\n",
       "      <th>2</th>\n",
       "      <td>5500.0</td>\n",
       "      <td>2013</td>\n",
       "      <td>hyundai sonata</td>\n",
       "      <td>like new</td>\n",
       "      <td>4</td>\n",
       "      <td>gas</td>\n",
       "      <td>110000.000000</td>\n",
       "      <td>automatic</td>\n",
       "      <td>sedan</td>\n",
       "      <td>red</td>\n",
       "      <td>True</td>\n",
       "      <td>2019-02-07</td>\n",
       "      <td>79</td>\n",
       "      <td>2019.0</td>\n",
       "      <td>2</td>\n",
       "      <td>3</td>\n",
       "      <td>7</td>\n",
       "      <td>15714.285714</td>\n",
       "    </tr>\n",
       "    <tr>\n",
       "      <th>3</th>\n",
       "      <td>1500.0</td>\n",
       "      <td>2003</td>\n",
       "      <td>ford f-150</td>\n",
       "      <td>fair</td>\n",
       "      <td>8</td>\n",
       "      <td>gas</td>\n",
       "      <td>124383.376062</td>\n",
       "      <td>automatic</td>\n",
       "      <td>pickup</td>\n",
       "      <td>unknown</td>\n",
       "      <td>True</td>\n",
       "      <td>2019-03-22</td>\n",
       "      <td>9</td>\n",
       "      <td>2019.0</td>\n",
       "      <td>3</td>\n",
       "      <td>4</td>\n",
       "      <td>17</td>\n",
       "      <td>7316.669180</td>\n",
       "    </tr>\n",
       "    <tr>\n",
       "      <th>4</th>\n",
       "      <td>14900.0</td>\n",
       "      <td>2017</td>\n",
       "      <td>chrysler 200</td>\n",
       "      <td>excellent</td>\n",
       "      <td>4</td>\n",
       "      <td>gas</td>\n",
       "      <td>80903.000000</td>\n",
       "      <td>automatic</td>\n",
       "      <td>sedan</td>\n",
       "      <td>black</td>\n",
       "      <td>True</td>\n",
       "      <td>2019-04-02</td>\n",
       "      <td>28</td>\n",
       "      <td>2019.0</td>\n",
       "      <td>4</td>\n",
       "      <td>1</td>\n",
       "      <td>3</td>\n",
       "      <td>26967.666667</td>\n",
       "    </tr>\n",
       "  </tbody>\n",
       "</table>\n",
       "</div>"
      ],
      "text/plain": [
       "     price  model_year           model  condition  cylinders fuel  \\\n",
       "0   9400.0        2011          bmw x5       good          6  gas   \n",
       "1  25500.0        2011      ford f-150       good          6  gas   \n",
       "2   5500.0        2013  hyundai sonata   like new          4  gas   \n",
       "3   1500.0        2003      ford f-150       fair          8  gas   \n",
       "4  14900.0        2017    chrysler 200  excellent          4  gas   \n",
       "\n",
       "        odometer transmission    type paint_color  is_4wd date_posted  \\\n",
       "0  145000.000000    automatic     SUV     unknown    True  2018-06-23   \n",
       "1   88705.000000    automatic  pickup       white    True  2018-10-19   \n",
       "2  110000.000000    automatic   sedan         red    True  2019-02-07   \n",
       "3  124383.376062    automatic  pickup     unknown    True  2019-03-22   \n",
       "4   80903.000000    automatic   sedan       black    True  2019-04-02   \n",
       "\n",
       "   days_listed  date_posted_year  month_posted  wd_posted  vehicle_age  \\\n",
       "0           19            2018.0             6          5            8   \n",
       "1           50            2018.0            10          4            8   \n",
       "2           79            2019.0             2          3            7   \n",
       "3            9            2019.0             3          4           17   \n",
       "4           28            2019.0             4          1            3   \n",
       "\n",
       "     miles_year  \n",
       "0  18125.000000  \n",
       "1  11088.125000  \n",
       "2  15714.285714  \n",
       "3   7316.669180  \n",
       "4  26967.666667  "
      ]
     },
     "execution_count": 24,
     "metadata": {},
     "output_type": "execute_result"
    }
   ],
   "source": [
    "df['miles_year'] = df['odometer']/df['vehicle_age']\n",
    "df.head()"
   ]
  },
  {
   "cell_type": "code",
   "execution_count": 25,
   "metadata": {},
   "outputs": [
    {
     "data": {
      "text/plain": [
       "0"
      ]
     },
     "execution_count": 25,
     "metadata": {},
     "output_type": "execute_result"
    }
   ],
   "source": [
    "df['miles_year'].isna().sum()"
   ]
  },
  {
   "cell_type": "markdown",
   "metadata": {},
   "source": [
    "Creamos un diccionario con condición de los vehículos y reemplazar los valores, para que sea mas facil visualizar despues las relaciones "
   ]
  },
  {
   "cell_type": "code",
   "execution_count": 26,
   "metadata": {},
   "outputs": [],
   "source": [
    "condition_dict = {'new':0,\n",
    "                 'like new':1,\n",
    "                 'excellent':2,\n",
    "                 'good':3,\n",
    "                 'fair':4,\n",
    "                 'salvage':5}\n"
   ]
  },
  {
   "cell_type": "code",
   "execution_count": 27,
   "metadata": {},
   "outputs": [
    {
     "data": {
      "text/html": [
       "<div>\n",
       "<style scoped>\n",
       "    .dataframe tbody tr th:only-of-type {\n",
       "        vertical-align: middle;\n",
       "    }\n",
       "\n",
       "    .dataframe tbody tr th {\n",
       "        vertical-align: top;\n",
       "    }\n",
       "\n",
       "    .dataframe thead th {\n",
       "        text-align: right;\n",
       "    }\n",
       "</style>\n",
       "<table border=\"1\" class=\"dataframe\">\n",
       "  <thead>\n",
       "    <tr style=\"text-align: right;\">\n",
       "      <th></th>\n",
       "      <th>price</th>\n",
       "      <th>model_year</th>\n",
       "      <th>model</th>\n",
       "      <th>condition</th>\n",
       "      <th>cylinders</th>\n",
       "      <th>fuel</th>\n",
       "      <th>odometer</th>\n",
       "      <th>transmission</th>\n",
       "      <th>type</th>\n",
       "      <th>paint_color</th>\n",
       "      <th>is_4wd</th>\n",
       "      <th>date_posted</th>\n",
       "      <th>days_listed</th>\n",
       "      <th>date_posted_year</th>\n",
       "      <th>month_posted</th>\n",
       "      <th>wd_posted</th>\n",
       "      <th>vehicle_age</th>\n",
       "      <th>miles_year</th>\n",
       "    </tr>\n",
       "  </thead>\n",
       "  <tbody>\n",
       "    <tr>\n",
       "      <th>0</th>\n",
       "      <td>9400.0</td>\n",
       "      <td>2011</td>\n",
       "      <td>bmw x5</td>\n",
       "      <td>3</td>\n",
       "      <td>6</td>\n",
       "      <td>gas</td>\n",
       "      <td>145000.000000</td>\n",
       "      <td>automatic</td>\n",
       "      <td>SUV</td>\n",
       "      <td>unknown</td>\n",
       "      <td>True</td>\n",
       "      <td>2018-06-23</td>\n",
       "      <td>19</td>\n",
       "      <td>2018.0</td>\n",
       "      <td>6</td>\n",
       "      <td>5</td>\n",
       "      <td>8</td>\n",
       "      <td>18125.000000</td>\n",
       "    </tr>\n",
       "    <tr>\n",
       "      <th>1</th>\n",
       "      <td>25500.0</td>\n",
       "      <td>2011</td>\n",
       "      <td>ford f-150</td>\n",
       "      <td>3</td>\n",
       "      <td>6</td>\n",
       "      <td>gas</td>\n",
       "      <td>88705.000000</td>\n",
       "      <td>automatic</td>\n",
       "      <td>pickup</td>\n",
       "      <td>white</td>\n",
       "      <td>True</td>\n",
       "      <td>2018-10-19</td>\n",
       "      <td>50</td>\n",
       "      <td>2018.0</td>\n",
       "      <td>10</td>\n",
       "      <td>4</td>\n",
       "      <td>8</td>\n",
       "      <td>11088.125000</td>\n",
       "    </tr>\n",
       "    <tr>\n",
       "      <th>2</th>\n",
       "      <td>5500.0</td>\n",
       "      <td>2013</td>\n",
       "      <td>hyundai sonata</td>\n",
       "      <td>1</td>\n",
       "      <td>4</td>\n",
       "      <td>gas</td>\n",
       "      <td>110000.000000</td>\n",
       "      <td>automatic</td>\n",
       "      <td>sedan</td>\n",
       "      <td>red</td>\n",
       "      <td>True</td>\n",
       "      <td>2019-02-07</td>\n",
       "      <td>79</td>\n",
       "      <td>2019.0</td>\n",
       "      <td>2</td>\n",
       "      <td>3</td>\n",
       "      <td>7</td>\n",
       "      <td>15714.285714</td>\n",
       "    </tr>\n",
       "    <tr>\n",
       "      <th>3</th>\n",
       "      <td>1500.0</td>\n",
       "      <td>2003</td>\n",
       "      <td>ford f-150</td>\n",
       "      <td>4</td>\n",
       "      <td>8</td>\n",
       "      <td>gas</td>\n",
       "      <td>124383.376062</td>\n",
       "      <td>automatic</td>\n",
       "      <td>pickup</td>\n",
       "      <td>unknown</td>\n",
       "      <td>True</td>\n",
       "      <td>2019-03-22</td>\n",
       "      <td>9</td>\n",
       "      <td>2019.0</td>\n",
       "      <td>3</td>\n",
       "      <td>4</td>\n",
       "      <td>17</td>\n",
       "      <td>7316.669180</td>\n",
       "    </tr>\n",
       "    <tr>\n",
       "      <th>4</th>\n",
       "      <td>14900.0</td>\n",
       "      <td>2017</td>\n",
       "      <td>chrysler 200</td>\n",
       "      <td>2</td>\n",
       "      <td>4</td>\n",
       "      <td>gas</td>\n",
       "      <td>80903.000000</td>\n",
       "      <td>automatic</td>\n",
       "      <td>sedan</td>\n",
       "      <td>black</td>\n",
       "      <td>True</td>\n",
       "      <td>2019-04-02</td>\n",
       "      <td>28</td>\n",
       "      <td>2019.0</td>\n",
       "      <td>4</td>\n",
       "      <td>1</td>\n",
       "      <td>3</td>\n",
       "      <td>26967.666667</td>\n",
       "    </tr>\n",
       "  </tbody>\n",
       "</table>\n",
       "</div>"
      ],
      "text/plain": [
       "     price  model_year           model  condition  cylinders fuel  \\\n",
       "0   9400.0        2011          bmw x5          3          6  gas   \n",
       "1  25500.0        2011      ford f-150          3          6  gas   \n",
       "2   5500.0        2013  hyundai sonata          1          4  gas   \n",
       "3   1500.0        2003      ford f-150          4          8  gas   \n",
       "4  14900.0        2017    chrysler 200          2          4  gas   \n",
       "\n",
       "        odometer transmission    type paint_color  is_4wd date_posted  \\\n",
       "0  145000.000000    automatic     SUV     unknown    True  2018-06-23   \n",
       "1   88705.000000    automatic  pickup       white    True  2018-10-19   \n",
       "2  110000.000000    automatic   sedan         red    True  2019-02-07   \n",
       "3  124383.376062    automatic  pickup     unknown    True  2019-03-22   \n",
       "4   80903.000000    automatic   sedan       black    True  2019-04-02   \n",
       "\n",
       "   days_listed  date_posted_year  month_posted  wd_posted  vehicle_age  \\\n",
       "0           19            2018.0             6          5            8   \n",
       "1           50            2018.0            10          4            8   \n",
       "2           79            2019.0             2          3            7   \n",
       "3            9            2019.0             3          4           17   \n",
       "4           28            2019.0             4          1            3   \n",
       "\n",
       "     miles_year  \n",
       "0  18125.000000  \n",
       "1  11088.125000  \n",
       "2  15714.285714  \n",
       "3   7316.669180  \n",
       "4  26967.666667  "
      ]
     },
     "execution_count": 27,
     "metadata": {},
     "output_type": "execute_result"
    }
   ],
   "source": [
    "df['condition'] = df['condition'].replace(condition_dict)\n",
    "df.head()"
   ]
  },
  {
   "cell_type": "markdown",
   "metadata": {},
   "source": [
    "## Comprobar datos limpios"
   ]
  },
  {
   "cell_type": "markdown",
   "metadata": {},
   "source": [
    "Comprobamos como quedaron los datos luego de la manipulación"
   ]
  },
  {
   "cell_type": "code",
   "execution_count": 28,
   "metadata": {},
   "outputs": [
    {
     "name": "stdout",
     "output_type": "stream",
     "text": [
      "<class 'pandas.core.frame.DataFrame'>\n",
      "RangeIndex: 51525 entries, 0 to 51524\n",
      "Data columns (total 18 columns):\n",
      " #   Column            Non-Null Count  Dtype         \n",
      "---  ------            --------------  -----         \n",
      " 0   price             51525 non-null  float64       \n",
      " 1   model_year        51525 non-null  int64         \n",
      " 2   model             51525 non-null  object        \n",
      " 3   condition         51525 non-null  int64         \n",
      " 4   cylinders         51525 non-null  int64         \n",
      " 5   fuel              51525 non-null  object        \n",
      " 6   odometer          51525 non-null  float64       \n",
      " 7   transmission      51525 non-null  object        \n",
      " 8   type              51525 non-null  object        \n",
      " 9   paint_color       51525 non-null  object        \n",
      " 10  is_4wd            51525 non-null  bool          \n",
      " 11  date_posted       51525 non-null  datetime64[ns]\n",
      " 12  days_listed       51525 non-null  int64         \n",
      " 13  date_posted_year  51525 non-null  float64       \n",
      " 14  month_posted      51525 non-null  int64         \n",
      " 15  wd_posted         51525 non-null  int64         \n",
      " 16  vehicle_age       51525 non-null  int64         \n",
      " 17  miles_year        51525 non-null  float64       \n",
      "dtypes: bool(1), datetime64[ns](1), float64(4), int64(7), object(5)\n",
      "memory usage: 6.7+ MB\n"
     ]
    }
   ],
   "source": [
    "df.info()"
   ]
  },
  {
   "cell_type": "code",
   "execution_count": 29,
   "metadata": {
    "scrolled": true
   },
   "outputs": [
    {
     "data": {
      "text/html": [
       "<div>\n",
       "<style scoped>\n",
       "    .dataframe tbody tr th:only-of-type {\n",
       "        vertical-align: middle;\n",
       "    }\n",
       "\n",
       "    .dataframe tbody tr th {\n",
       "        vertical-align: top;\n",
       "    }\n",
       "\n",
       "    .dataframe thead th {\n",
       "        text-align: right;\n",
       "    }\n",
       "</style>\n",
       "<table border=\"1\" class=\"dataframe\">\n",
       "  <thead>\n",
       "    <tr style=\"text-align: right;\">\n",
       "      <th></th>\n",
       "      <th>price</th>\n",
       "      <th>model_year</th>\n",
       "      <th>model</th>\n",
       "      <th>condition</th>\n",
       "      <th>cylinders</th>\n",
       "      <th>fuel</th>\n",
       "      <th>odometer</th>\n",
       "      <th>transmission</th>\n",
       "      <th>type</th>\n",
       "      <th>paint_color</th>\n",
       "      <th>is_4wd</th>\n",
       "      <th>date_posted</th>\n",
       "      <th>days_listed</th>\n",
       "      <th>date_posted_year</th>\n",
       "      <th>month_posted</th>\n",
       "      <th>wd_posted</th>\n",
       "      <th>vehicle_age</th>\n",
       "      <th>miles_year</th>\n",
       "    </tr>\n",
       "  </thead>\n",
       "  <tbody>\n",
       "    <tr>\n",
       "      <th>0</th>\n",
       "      <td>9400.0</td>\n",
       "      <td>2011</td>\n",
       "      <td>bmw x5</td>\n",
       "      <td>3</td>\n",
       "      <td>6</td>\n",
       "      <td>gas</td>\n",
       "      <td>145000.000000</td>\n",
       "      <td>automatic</td>\n",
       "      <td>SUV</td>\n",
       "      <td>unknown</td>\n",
       "      <td>True</td>\n",
       "      <td>2018-06-23</td>\n",
       "      <td>19</td>\n",
       "      <td>2018.0</td>\n",
       "      <td>6</td>\n",
       "      <td>5</td>\n",
       "      <td>8</td>\n",
       "      <td>18125.000000</td>\n",
       "    </tr>\n",
       "    <tr>\n",
       "      <th>1</th>\n",
       "      <td>25500.0</td>\n",
       "      <td>2011</td>\n",
       "      <td>ford f-150</td>\n",
       "      <td>3</td>\n",
       "      <td>6</td>\n",
       "      <td>gas</td>\n",
       "      <td>88705.000000</td>\n",
       "      <td>automatic</td>\n",
       "      <td>pickup</td>\n",
       "      <td>white</td>\n",
       "      <td>True</td>\n",
       "      <td>2018-10-19</td>\n",
       "      <td>50</td>\n",
       "      <td>2018.0</td>\n",
       "      <td>10</td>\n",
       "      <td>4</td>\n",
       "      <td>8</td>\n",
       "      <td>11088.125000</td>\n",
       "    </tr>\n",
       "    <tr>\n",
       "      <th>2</th>\n",
       "      <td>5500.0</td>\n",
       "      <td>2013</td>\n",
       "      <td>hyundai sonata</td>\n",
       "      <td>1</td>\n",
       "      <td>4</td>\n",
       "      <td>gas</td>\n",
       "      <td>110000.000000</td>\n",
       "      <td>automatic</td>\n",
       "      <td>sedan</td>\n",
       "      <td>red</td>\n",
       "      <td>True</td>\n",
       "      <td>2019-02-07</td>\n",
       "      <td>79</td>\n",
       "      <td>2019.0</td>\n",
       "      <td>2</td>\n",
       "      <td>3</td>\n",
       "      <td>7</td>\n",
       "      <td>15714.285714</td>\n",
       "    </tr>\n",
       "    <tr>\n",
       "      <th>3</th>\n",
       "      <td>1500.0</td>\n",
       "      <td>2003</td>\n",
       "      <td>ford f-150</td>\n",
       "      <td>4</td>\n",
       "      <td>8</td>\n",
       "      <td>gas</td>\n",
       "      <td>124383.376062</td>\n",
       "      <td>automatic</td>\n",
       "      <td>pickup</td>\n",
       "      <td>unknown</td>\n",
       "      <td>True</td>\n",
       "      <td>2019-03-22</td>\n",
       "      <td>9</td>\n",
       "      <td>2019.0</td>\n",
       "      <td>3</td>\n",
       "      <td>4</td>\n",
       "      <td>17</td>\n",
       "      <td>7316.669180</td>\n",
       "    </tr>\n",
       "    <tr>\n",
       "      <th>4</th>\n",
       "      <td>14900.0</td>\n",
       "      <td>2017</td>\n",
       "      <td>chrysler 200</td>\n",
       "      <td>2</td>\n",
       "      <td>4</td>\n",
       "      <td>gas</td>\n",
       "      <td>80903.000000</td>\n",
       "      <td>automatic</td>\n",
       "      <td>sedan</td>\n",
       "      <td>black</td>\n",
       "      <td>True</td>\n",
       "      <td>2019-04-02</td>\n",
       "      <td>28</td>\n",
       "      <td>2019.0</td>\n",
       "      <td>4</td>\n",
       "      <td>1</td>\n",
       "      <td>3</td>\n",
       "      <td>26967.666667</td>\n",
       "    </tr>\n",
       "    <tr>\n",
       "      <th>5</th>\n",
       "      <td>14990.0</td>\n",
       "      <td>2014</td>\n",
       "      <td>chrysler 300</td>\n",
       "      <td>2</td>\n",
       "      <td>6</td>\n",
       "      <td>gas</td>\n",
       "      <td>57954.000000</td>\n",
       "      <td>automatic</td>\n",
       "      <td>sedan</td>\n",
       "      <td>black</td>\n",
       "      <td>True</td>\n",
       "      <td>2018-06-20</td>\n",
       "      <td>15</td>\n",
       "      <td>2018.0</td>\n",
       "      <td>6</td>\n",
       "      <td>2</td>\n",
       "      <td>5</td>\n",
       "      <td>11590.800000</td>\n",
       "    </tr>\n",
       "    <tr>\n",
       "      <th>6</th>\n",
       "      <td>12990.0</td>\n",
       "      <td>2015</td>\n",
       "      <td>toyota camry</td>\n",
       "      <td>2</td>\n",
       "      <td>4</td>\n",
       "      <td>gas</td>\n",
       "      <td>79212.000000</td>\n",
       "      <td>automatic</td>\n",
       "      <td>sedan</td>\n",
       "      <td>white</td>\n",
       "      <td>True</td>\n",
       "      <td>2018-12-27</td>\n",
       "      <td>73</td>\n",
       "      <td>2018.0</td>\n",
       "      <td>12</td>\n",
       "      <td>3</td>\n",
       "      <td>4</td>\n",
       "      <td>19803.000000</td>\n",
       "    </tr>\n",
       "    <tr>\n",
       "      <th>7</th>\n",
       "      <td>15990.0</td>\n",
       "      <td>2013</td>\n",
       "      <td>honda pilot</td>\n",
       "      <td>2</td>\n",
       "      <td>6</td>\n",
       "      <td>gas</td>\n",
       "      <td>109473.000000</td>\n",
       "      <td>automatic</td>\n",
       "      <td>SUV</td>\n",
       "      <td>black</td>\n",
       "      <td>True</td>\n",
       "      <td>2019-01-07</td>\n",
       "      <td>68</td>\n",
       "      <td>2019.0</td>\n",
       "      <td>1</td>\n",
       "      <td>0</td>\n",
       "      <td>7</td>\n",
       "      <td>15639.000000</td>\n",
       "    </tr>\n",
       "    <tr>\n",
       "      <th>8</th>\n",
       "      <td>11500.0</td>\n",
       "      <td>2012</td>\n",
       "      <td>kia sorento</td>\n",
       "      <td>2</td>\n",
       "      <td>4</td>\n",
       "      <td>gas</td>\n",
       "      <td>104174.000000</td>\n",
       "      <td>automatic</td>\n",
       "      <td>SUV</td>\n",
       "      <td>unknown</td>\n",
       "      <td>True</td>\n",
       "      <td>2018-07-16</td>\n",
       "      <td>19</td>\n",
       "      <td>2018.0</td>\n",
       "      <td>7</td>\n",
       "      <td>0</td>\n",
       "      <td>7</td>\n",
       "      <td>14882.000000</td>\n",
       "    </tr>\n",
       "    <tr>\n",
       "      <th>9</th>\n",
       "      <td>9200.0</td>\n",
       "      <td>2008</td>\n",
       "      <td>honda pilot</td>\n",
       "      <td>2</td>\n",
       "      <td>6</td>\n",
       "      <td>gas</td>\n",
       "      <td>147191.000000</td>\n",
       "      <td>automatic</td>\n",
       "      <td>SUV</td>\n",
       "      <td>blue</td>\n",
       "      <td>True</td>\n",
       "      <td>2019-02-15</td>\n",
       "      <td>17</td>\n",
       "      <td>2019.0</td>\n",
       "      <td>2</td>\n",
       "      <td>4</td>\n",
       "      <td>12</td>\n",
       "      <td>12265.916667</td>\n",
       "    </tr>\n",
       "    <tr>\n",
       "      <th>10</th>\n",
       "      <td>19500.0</td>\n",
       "      <td>2011</td>\n",
       "      <td>chevrolet silverado 1500</td>\n",
       "      <td>2</td>\n",
       "      <td>8</td>\n",
       "      <td>gas</td>\n",
       "      <td>128413.000000</td>\n",
       "      <td>automatic</td>\n",
       "      <td>pickup</td>\n",
       "      <td>black</td>\n",
       "      <td>True</td>\n",
       "      <td>2018-09-17</td>\n",
       "      <td>38</td>\n",
       "      <td>2018.0</td>\n",
       "      <td>9</td>\n",
       "      <td>0</td>\n",
       "      <td>8</td>\n",
       "      <td>16051.625000</td>\n",
       "    </tr>\n",
       "    <tr>\n",
       "      <th>11</th>\n",
       "      <td>8990.0</td>\n",
       "      <td>2012</td>\n",
       "      <td>honda accord</td>\n",
       "      <td>2</td>\n",
       "      <td>4</td>\n",
       "      <td>gas</td>\n",
       "      <td>111142.000000</td>\n",
       "      <td>automatic</td>\n",
       "      <td>sedan</td>\n",
       "      <td>grey</td>\n",
       "      <td>True</td>\n",
       "      <td>2019-03-28</td>\n",
       "      <td>29</td>\n",
       "      <td>2019.0</td>\n",
       "      <td>3</td>\n",
       "      <td>3</td>\n",
       "      <td>8</td>\n",
       "      <td>13892.750000</td>\n",
       "    </tr>\n",
       "    <tr>\n",
       "      <th>12</th>\n",
       "      <td>18990.0</td>\n",
       "      <td>2012</td>\n",
       "      <td>ram 1500</td>\n",
       "      <td>2</td>\n",
       "      <td>8</td>\n",
       "      <td>gas</td>\n",
       "      <td>140742.000000</td>\n",
       "      <td>automatic</td>\n",
       "      <td>pickup</td>\n",
       "      <td>unknown</td>\n",
       "      <td>True</td>\n",
       "      <td>2019-04-02</td>\n",
       "      <td>37</td>\n",
       "      <td>2019.0</td>\n",
       "      <td>4</td>\n",
       "      <td>1</td>\n",
       "      <td>8</td>\n",
       "      <td>17592.750000</td>\n",
       "    </tr>\n",
       "    <tr>\n",
       "      <th>13</th>\n",
       "      <td>16500.0</td>\n",
       "      <td>2018</td>\n",
       "      <td>hyundai sonata</td>\n",
       "      <td>2</td>\n",
       "      <td>4</td>\n",
       "      <td>gas</td>\n",
       "      <td>22104.000000</td>\n",
       "      <td>automatic</td>\n",
       "      <td>sedan</td>\n",
       "      <td>silver</td>\n",
       "      <td>True</td>\n",
       "      <td>2019-01-14</td>\n",
       "      <td>29</td>\n",
       "      <td>2019.0</td>\n",
       "      <td>1</td>\n",
       "      <td>0</td>\n",
       "      <td>2</td>\n",
       "      <td>11052.000000</td>\n",
       "    </tr>\n",
       "    <tr>\n",
       "      <th>14</th>\n",
       "      <td>12990.0</td>\n",
       "      <td>2009</td>\n",
       "      <td>gmc yukon</td>\n",
       "      <td>2</td>\n",
       "      <td>8</td>\n",
       "      <td>gas</td>\n",
       "      <td>132285.000000</td>\n",
       "      <td>automatic</td>\n",
       "      <td>SUV</td>\n",
       "      <td>black</td>\n",
       "      <td>True</td>\n",
       "      <td>2019-01-31</td>\n",
       "      <td>24</td>\n",
       "      <td>2019.0</td>\n",
       "      <td>1</td>\n",
       "      <td>3</td>\n",
       "      <td>11</td>\n",
       "      <td>12025.909091</td>\n",
       "    </tr>\n",
       "    <tr>\n",
       "      <th>15</th>\n",
       "      <td>17990.0</td>\n",
       "      <td>2013</td>\n",
       "      <td>ram 1500</td>\n",
       "      <td>2</td>\n",
       "      <td>8</td>\n",
       "      <td>gas</td>\n",
       "      <td>124383.376062</td>\n",
       "      <td>automatic</td>\n",
       "      <td>pickup</td>\n",
       "      <td>red</td>\n",
       "      <td>True</td>\n",
       "      <td>2018-05-15</td>\n",
       "      <td>111</td>\n",
       "      <td>2018.0</td>\n",
       "      <td>5</td>\n",
       "      <td>1</td>\n",
       "      <td>6</td>\n",
       "      <td>20730.562677</td>\n",
       "    </tr>\n",
       "    <tr>\n",
       "      <th>16</th>\n",
       "      <td>14990.0</td>\n",
       "      <td>2010</td>\n",
       "      <td>ram 1500</td>\n",
       "      <td>2</td>\n",
       "      <td>8</td>\n",
       "      <td>gas</td>\n",
       "      <td>130725.000000</td>\n",
       "      <td>automatic</td>\n",
       "      <td>pickup</td>\n",
       "      <td>red</td>\n",
       "      <td>True</td>\n",
       "      <td>2018-12-30</td>\n",
       "      <td>13</td>\n",
       "      <td>2018.0</td>\n",
       "      <td>12</td>\n",
       "      <td>6</td>\n",
       "      <td>9</td>\n",
       "      <td>14525.000000</td>\n",
       "    </tr>\n",
       "    <tr>\n",
       "      <th>17</th>\n",
       "      <td>13990.0</td>\n",
       "      <td>2014</td>\n",
       "      <td>jeep cherokee</td>\n",
       "      <td>2</td>\n",
       "      <td>6</td>\n",
       "      <td>gas</td>\n",
       "      <td>100669.000000</td>\n",
       "      <td>automatic</td>\n",
       "      <td>SUV</td>\n",
       "      <td>red</td>\n",
       "      <td>True</td>\n",
       "      <td>2018-08-16</td>\n",
       "      <td>25</td>\n",
       "      <td>2018.0</td>\n",
       "      <td>8</td>\n",
       "      <td>3</td>\n",
       "      <td>5</td>\n",
       "      <td>20133.800000</td>\n",
       "    </tr>\n",
       "    <tr>\n",
       "      <th>18</th>\n",
       "      <td>12500.0</td>\n",
       "      <td>2013</td>\n",
       "      <td>chevrolet traverse</td>\n",
       "      <td>2</td>\n",
       "      <td>6</td>\n",
       "      <td>gas</td>\n",
       "      <td>128325.000000</td>\n",
       "      <td>automatic</td>\n",
       "      <td>SUV</td>\n",
       "      <td>white</td>\n",
       "      <td>True</td>\n",
       "      <td>2019-04-09</td>\n",
       "      <td>13</td>\n",
       "      <td>2019.0</td>\n",
       "      <td>4</td>\n",
       "      <td>1</td>\n",
       "      <td>7</td>\n",
       "      <td>18332.142857</td>\n",
       "    </tr>\n",
       "    <tr>\n",
       "      <th>19</th>\n",
       "      <td>13990.0</td>\n",
       "      <td>2018</td>\n",
       "      <td>hyundai elantra</td>\n",
       "      <td>2</td>\n",
       "      <td>4</td>\n",
       "      <td>gas</td>\n",
       "      <td>31932.000000</td>\n",
       "      <td>automatic</td>\n",
       "      <td>sedan</td>\n",
       "      <td>red</td>\n",
       "      <td>True</td>\n",
       "      <td>2018-08-25</td>\n",
       "      <td>27</td>\n",
       "      <td>2018.0</td>\n",
       "      <td>8</td>\n",
       "      <td>5</td>\n",
       "      <td>1</td>\n",
       "      <td>31932.000000</td>\n",
       "    </tr>\n",
       "  </tbody>\n",
       "</table>\n",
       "</div>"
      ],
      "text/plain": [
       "      price  model_year                     model  condition  cylinders fuel  \\\n",
       "0    9400.0        2011                    bmw x5          3          6  gas   \n",
       "1   25500.0        2011                ford f-150          3          6  gas   \n",
       "2    5500.0        2013            hyundai sonata          1          4  gas   \n",
       "3    1500.0        2003                ford f-150          4          8  gas   \n",
       "4   14900.0        2017              chrysler 200          2          4  gas   \n",
       "5   14990.0        2014              chrysler 300          2          6  gas   \n",
       "6   12990.0        2015              toyota camry          2          4  gas   \n",
       "7   15990.0        2013               honda pilot          2          6  gas   \n",
       "8   11500.0        2012               kia sorento          2          4  gas   \n",
       "9    9200.0        2008               honda pilot          2          6  gas   \n",
       "10  19500.0        2011  chevrolet silverado 1500          2          8  gas   \n",
       "11   8990.0        2012              honda accord          2          4  gas   \n",
       "12  18990.0        2012                  ram 1500          2          8  gas   \n",
       "13  16500.0        2018            hyundai sonata          2          4  gas   \n",
       "14  12990.0        2009                 gmc yukon          2          8  gas   \n",
       "15  17990.0        2013                  ram 1500          2          8  gas   \n",
       "16  14990.0        2010                  ram 1500          2          8  gas   \n",
       "17  13990.0        2014             jeep cherokee          2          6  gas   \n",
       "18  12500.0        2013        chevrolet traverse          2          6  gas   \n",
       "19  13990.0        2018           hyundai elantra          2          4  gas   \n",
       "\n",
       "         odometer transmission    type paint_color  is_4wd date_posted  \\\n",
       "0   145000.000000    automatic     SUV     unknown    True  2018-06-23   \n",
       "1    88705.000000    automatic  pickup       white    True  2018-10-19   \n",
       "2   110000.000000    automatic   sedan         red    True  2019-02-07   \n",
       "3   124383.376062    automatic  pickup     unknown    True  2019-03-22   \n",
       "4    80903.000000    automatic   sedan       black    True  2019-04-02   \n",
       "5    57954.000000    automatic   sedan       black    True  2018-06-20   \n",
       "6    79212.000000    automatic   sedan       white    True  2018-12-27   \n",
       "7   109473.000000    automatic     SUV       black    True  2019-01-07   \n",
       "8   104174.000000    automatic     SUV     unknown    True  2018-07-16   \n",
       "9   147191.000000    automatic     SUV        blue    True  2019-02-15   \n",
       "10  128413.000000    automatic  pickup       black    True  2018-09-17   \n",
       "11  111142.000000    automatic   sedan        grey    True  2019-03-28   \n",
       "12  140742.000000    automatic  pickup     unknown    True  2019-04-02   \n",
       "13   22104.000000    automatic   sedan      silver    True  2019-01-14   \n",
       "14  132285.000000    automatic     SUV       black    True  2019-01-31   \n",
       "15  124383.376062    automatic  pickup         red    True  2018-05-15   \n",
       "16  130725.000000    automatic  pickup         red    True  2018-12-30   \n",
       "17  100669.000000    automatic     SUV         red    True  2018-08-16   \n",
       "18  128325.000000    automatic     SUV       white    True  2019-04-09   \n",
       "19   31932.000000    automatic   sedan         red    True  2018-08-25   \n",
       "\n",
       "    days_listed  date_posted_year  month_posted  wd_posted  vehicle_age  \\\n",
       "0            19            2018.0             6          5            8   \n",
       "1            50            2018.0            10          4            8   \n",
       "2            79            2019.0             2          3            7   \n",
       "3             9            2019.0             3          4           17   \n",
       "4            28            2019.0             4          1            3   \n",
       "5            15            2018.0             6          2            5   \n",
       "6            73            2018.0            12          3            4   \n",
       "7            68            2019.0             1          0            7   \n",
       "8            19            2018.0             7          0            7   \n",
       "9            17            2019.0             2          4           12   \n",
       "10           38            2018.0             9          0            8   \n",
       "11           29            2019.0             3          3            8   \n",
       "12           37            2019.0             4          1            8   \n",
       "13           29            2019.0             1          0            2   \n",
       "14           24            2019.0             1          3           11   \n",
       "15          111            2018.0             5          1            6   \n",
       "16           13            2018.0            12          6            9   \n",
       "17           25            2018.0             8          3            5   \n",
       "18           13            2019.0             4          1            7   \n",
       "19           27            2018.0             8          5            1   \n",
       "\n",
       "      miles_year  \n",
       "0   18125.000000  \n",
       "1   11088.125000  \n",
       "2   15714.285714  \n",
       "3    7316.669180  \n",
       "4   26967.666667  \n",
       "5   11590.800000  \n",
       "6   19803.000000  \n",
       "7   15639.000000  \n",
       "8   14882.000000  \n",
       "9   12265.916667  \n",
       "10  16051.625000  \n",
       "11  13892.750000  \n",
       "12  17592.750000  \n",
       "13  11052.000000  \n",
       "14  12025.909091  \n",
       "15  20730.562677  \n",
       "16  14525.000000  \n",
       "17  20133.800000  \n",
       "18  18332.142857  \n",
       "19  31932.000000  "
      ]
     },
     "execution_count": 29,
     "metadata": {},
     "output_type": "execute_result"
    }
   ],
   "source": [
    "df.head(20)"
   ]
  },
  {
   "cell_type": "markdown",
   "metadata": {},
   "source": [
    "## Estudiar parámetros principales\n",
    "\n",
    "Analizaremos las relaciones de datos que identificamos como posibles factores a tener en cuenta a la hora de comprar un vehículo por parte de los compradores\n",
    "\n",
    "Los parámetros son:\n",
    "- Precio\n",
    "- Los años del vehículo cuando el anuncio se colocó\n",
    "- Millaje\n",
    "- Número de cilindros\n",
    "- Estado"
   ]
  },
  {
   "cell_type": "markdown",
   "metadata": {},
   "source": [
    "Graficaremos histogramas con los valores para identificar posibles valores que influencien en los datos"
   ]
  },
  {
   "cell_type": "code",
   "execution_count": 30,
   "metadata": {
    "scrolled": false
   },
   "outputs": [
    {
     "data": {
      "image/png": "[encoded data removed]",
      "text/plain": [
       "<Figure size 720x720 with 1 Axes>"
      ]
     },
     "metadata": {
      "needs_background": "light"
     },
     "output_type": "display_data"
    },
    {
     "data": {
      "image/png": "[encoded data removed]",
      "text/plain": [
       "<Figure size 720x720 with 1 Axes>"
      ]
     },
     "metadata": {
      "needs_background": "light"
     },
     "output_type": "display_data"
    },
    {
     "data": {
      "image/png": "[encoded data removed]",
      "text/plain": [
       "<Figure size 720x720 with 1 Axes>"
      ]
     },
     "metadata": {
      "needs_background": "light"
     },
     "output_type": "display_data"
    },
    {
     "data": {
      "image/png": "[encoded data removed]",
      "text/plain": [
       "<Figure size 720x720 with 1 Axes>"
      ]
     },
     "metadata": {
      "needs_background": "light"
     },
     "output_type": "display_data"
    },
    {
     "data": {
      "image/png": "[encoded data removed]",
      "text/plain": [
       "<Figure size 720x720 with 1 Axes>"
      ]
     },
     "metadata": {
      "needs_background": "light"
     },
     "output_type": "display_data"
    }
   ],
   "source": [
    "parametros_2 = df.filter(['price', 'vehicle_age', 'odometer', 'cylinders', 'condition'])\n",
    "for values in parametros_2 :\n",
    "     parametros_2.plot(y=values, kind='hist', bins=300, figsize= (10, 10))"
   ]
  },
  {
   "cell_type": "markdown",
   "metadata": {},
   "source": [
    "Se observan valores atipicos en los histogramas de los precios, la edad del vehiculo y el odometro con valores iguales a 0, configure los histogramas con bins=300 para ver mejor la distribucion de estos valores.\n",
    "El valor de bins fue igual a 300 para observar mejor los valores 0 o cercanos a 0"
   ]
  },
  {
   "cell_type": "markdown",
   "metadata": {},
   "source": [
    "## Estudiar y tratar valores atípicos\n",
    "\n"
   ]
  },
  {
   "cell_type": "markdown",
   "metadata": {},
   "source": [
    "Voy a ver la distribucion de los valores de los parametros que me interesan"
   ]
  },
  {
   "cell_type": "code",
   "execution_count": 31,
   "metadata": {},
   "outputs": [
    {
     "data": {
      "text/html": [
       "<div>\n",
       "<style scoped>\n",
       "    .dataframe tbody tr th:only-of-type {\n",
       "        vertical-align: middle;\n",
       "    }\n",
       "\n",
       "    .dataframe tbody tr th {\n",
       "        vertical-align: top;\n",
       "    }\n",
       "\n",
       "    .dataframe thead th {\n",
       "        text-align: right;\n",
       "    }\n",
       "</style>\n",
       "<table border=\"1\" class=\"dataframe\">\n",
       "  <thead>\n",
       "    <tr style=\"text-align: right;\">\n",
       "      <th></th>\n",
       "      <th>price</th>\n",
       "      <th>vehicle_age</th>\n",
       "      <th>odometer</th>\n",
       "    </tr>\n",
       "  </thead>\n",
       "  <tbody>\n",
       "    <tr>\n",
       "      <th>count</th>\n",
       "      <td>51525.000000</td>\n",
       "      <td>51525.000000</td>\n",
       "      <td>51525.000000</td>\n",
       "    </tr>\n",
       "    <tr>\n",
       "      <th>mean</th>\n",
       "      <td>12132.464920</td>\n",
       "      <td>9.513906</td>\n",
       "      <td>115532.865258</td>\n",
       "    </tr>\n",
       "    <tr>\n",
       "      <th>std</th>\n",
       "      <td>10040.803015</td>\n",
       "      <td>6.112976</td>\n",
       "      <td>59988.326094</td>\n",
       "    </tr>\n",
       "    <tr>\n",
       "      <th>min</th>\n",
       "      <td>1.000000</td>\n",
       "      <td>1.000000</td>\n",
       "      <td>0.000000</td>\n",
       "    </tr>\n",
       "    <tr>\n",
       "      <th>0%</th>\n",
       "      <td>1.000000</td>\n",
       "      <td>1.000000</td>\n",
       "      <td>0.000000</td>\n",
       "    </tr>\n",
       "    <tr>\n",
       "      <th>5%</th>\n",
       "      <td>1950.000000</td>\n",
       "      <td>2.000000</td>\n",
       "      <td>19000.000000</td>\n",
       "    </tr>\n",
       "    <tr>\n",
       "      <th>10%</th>\n",
       "      <td>2995.000000</td>\n",
       "      <td>3.000000</td>\n",
       "      <td>36944.600000</td>\n",
       "    </tr>\n",
       "    <tr>\n",
       "      <th>15%</th>\n",
       "      <td>3800.000000</td>\n",
       "      <td>4.000000</td>\n",
       "      <td>52325.000000</td>\n",
       "    </tr>\n",
       "    <tr>\n",
       "      <th>20%</th>\n",
       "      <td>4500.000000</td>\n",
       "      <td>4.000000</td>\n",
       "      <td>66950.000000</td>\n",
       "    </tr>\n",
       "    <tr>\n",
       "      <th>25%</th>\n",
       "      <td>5000.000000</td>\n",
       "      <td>5.000000</td>\n",
       "      <td>78939.000000</td>\n",
       "    </tr>\n",
       "    <tr>\n",
       "      <th>30%</th>\n",
       "      <td>5900.000000</td>\n",
       "      <td>6.000000</td>\n",
       "      <td>90000.000000</td>\n",
       "    </tr>\n",
       "    <tr>\n",
       "      <th>35%</th>\n",
       "      <td>6500.000000</td>\n",
       "      <td>7.000000</td>\n",
       "      <td>99400.000000</td>\n",
       "    </tr>\n",
       "    <tr>\n",
       "      <th>40%</th>\n",
       "      <td>7450.000000</td>\n",
       "      <td>7.000000</td>\n",
       "      <td>106746.506988</td>\n",
       "    </tr>\n",
       "    <tr>\n",
       "      <th>45%</th>\n",
       "      <td>8095.000000</td>\n",
       "      <td>8.000000</td>\n",
       "      <td>108931.800000</td>\n",
       "    </tr>\n",
       "    <tr>\n",
       "      <th>50%</th>\n",
       "      <td>9000.000000</td>\n",
       "      <td>9.000000</td>\n",
       "      <td>115635.226337</td>\n",
       "    </tr>\n",
       "    <tr>\n",
       "      <th>55%</th>\n",
       "      <td>10436.200000</td>\n",
       "      <td>9.000000</td>\n",
       "      <td>118000.000000</td>\n",
       "    </tr>\n",
       "    <tr>\n",
       "      <th>60%</th>\n",
       "      <td>11900.000000</td>\n",
       "      <td>10.000000</td>\n",
       "      <td>124383.376062</td>\n",
       "    </tr>\n",
       "    <tr>\n",
       "      <th>65%</th>\n",
       "      <td>13000.000000</td>\n",
       "      <td>11.000000</td>\n",
       "      <td>126926.400000</td>\n",
       "    </tr>\n",
       "    <tr>\n",
       "      <th>70%</th>\n",
       "      <td>14977.000000</td>\n",
       "      <td>12.000000</td>\n",
       "      <td>136500.000000</td>\n",
       "    </tr>\n",
       "    <tr>\n",
       "      <th>75%</th>\n",
       "      <td>16839.000000</td>\n",
       "      <td>13.000000</td>\n",
       "      <td>146551.000000</td>\n",
       "    </tr>\n",
       "    <tr>\n",
       "      <th>80%</th>\n",
       "      <td>18950.000000</td>\n",
       "      <td>14.000000</td>\n",
       "      <td>158000.000000</td>\n",
       "    </tr>\n",
       "    <tr>\n",
       "      <th>85%</th>\n",
       "      <td>21900.000000</td>\n",
       "      <td>15.000000</td>\n",
       "      <td>171896.400000</td>\n",
       "    </tr>\n",
       "    <tr>\n",
       "      <th>90%</th>\n",
       "      <td>25200.000000</td>\n",
       "      <td>17.000000</td>\n",
       "      <td>189206.000000</td>\n",
       "    </tr>\n",
       "    <tr>\n",
       "      <th>95%</th>\n",
       "      <td>30300.000000</td>\n",
       "      <td>20.000000</td>\n",
       "      <td>216500.000000</td>\n",
       "    </tr>\n",
       "    <tr>\n",
       "      <th>98%</th>\n",
       "      <td>37995.000000</td>\n",
       "      <td>24.000000</td>\n",
       "      <td>250825.000000</td>\n",
       "    </tr>\n",
       "    <tr>\n",
       "      <th>99%</th>\n",
       "      <td>43995.000000</td>\n",
       "      <td>28.000000</td>\n",
       "      <td>280000.000000</td>\n",
       "    </tr>\n",
       "    <tr>\n",
       "      <th>100%</th>\n",
       "      <td>375000.000000</td>\n",
       "      <td>111.000000</td>\n",
       "      <td>990000.000000</td>\n",
       "    </tr>\n",
       "    <tr>\n",
       "      <th>max</th>\n",
       "      <td>375000.000000</td>\n",
       "      <td>111.000000</td>\n",
       "      <td>990000.000000</td>\n",
       "    </tr>\n",
       "  </tbody>\n",
       "</table>\n",
       "</div>"
      ],
      "text/plain": [
       "               price   vehicle_age       odometer\n",
       "count   51525.000000  51525.000000   51525.000000\n",
       "mean    12132.464920      9.513906  115532.865258\n",
       "std     10040.803015      6.112976   59988.326094\n",
       "min         1.000000      1.000000       0.000000\n",
       "0%          1.000000      1.000000       0.000000\n",
       "5%       1950.000000      2.000000   19000.000000\n",
       "10%      2995.000000      3.000000   36944.600000\n",
       "15%      3800.000000      4.000000   52325.000000\n",
       "20%      4500.000000      4.000000   66950.000000\n",
       "25%      5000.000000      5.000000   78939.000000\n",
       "30%      5900.000000      6.000000   90000.000000\n",
       "35%      6500.000000      7.000000   99400.000000\n",
       "40%      7450.000000      7.000000  106746.506988\n",
       "45%      8095.000000      8.000000  108931.800000\n",
       "50%      9000.000000      9.000000  115635.226337\n",
       "55%     10436.200000      9.000000  118000.000000\n",
       "60%     11900.000000     10.000000  124383.376062\n",
       "65%     13000.000000     11.000000  126926.400000\n",
       "70%     14977.000000     12.000000  136500.000000\n",
       "75%     16839.000000     13.000000  146551.000000\n",
       "80%     18950.000000     14.000000  158000.000000\n",
       "85%     21900.000000     15.000000  171896.400000\n",
       "90%     25200.000000     17.000000  189206.000000\n",
       "95%     30300.000000     20.000000  216500.000000\n",
       "98%     37995.000000     24.000000  250825.000000\n",
       "99%     43995.000000     28.000000  280000.000000\n",
       "100%   375000.000000    111.000000  990000.000000\n",
       "max    375000.000000    111.000000  990000.000000"
      ]
     },
     "execution_count": 31,
     "metadata": {},
     "output_type": "execute_result"
    }
   ],
   "source": [
    "parametros2 = df.filter(['price', 'vehicle_age', 'odometer'])\n",
    "parametros2.describe(percentiles=list(np.linspace(0, 1, 21)) + [0.98, 0.99])"
   ]
  },
  {
   "cell_type": "markdown",
   "metadata": {},
   "source": [
    "Vemos que hay valores de vehiculos a 1 dolar, edad del vehiculo de 0 años y el odometro = 0 millas, el valor de 1 dolar es claramente un error de tipeo, si bien pueden resultar extraños los valores de 0 años y 0 millas, puede ser que sean valores de autos nuevos con 0 mi, si lo pensamos asi no están malo estos datos"
   ]
  },
  {
   "cell_type": "markdown",
   "metadata": {},
   "source": [
    "Vamos a estimar los valores de IQR y las ramas positivas y negativas de IQR"
   ]
  },
  {
   "cell_type": "code",
   "execution_count": 32,
   "metadata": {},
   "outputs": [
    {
     "name": "stdout",
     "output_type": "stream",
     "text": [
      "11839.0\n",
      "8.0\n",
      "67612.0\n"
     ]
    }
   ],
   "source": [
    "#Estimamos IQR por columna\n",
    "price_IQR = df['price'].quantile(0.75) - df['price'].quantile(0.25)\n",
    "vehicle_age_IQR = df['vehicle_age'].quantile(0.75) - df['vehicle_age'].quantile(0.25)\n",
    "odometer_IQR = df['odometer'].quantile(0.75) - df['odometer'].quantile(0.25)\n",
    "\n",
    "print(price_IQR)\n",
    "print(vehicle_age_IQR)\n",
    "print(odometer_IQR)"
   ]
  },
  {
   "cell_type": "code",
   "execution_count": 33,
   "metadata": {},
   "outputs": [
    {
     "name": "stdout",
     "output_type": "stream",
     "text": [
      "-12758.5\n",
      "-7.0\n",
      "-22479.0\n"
     ]
    }
   ],
   "source": [
    "# Determinamos los límites inferiores para valores atípicos\n",
    "price_inf= df['price'].quantile(0.25) - 1.5 * price_IQR\n",
    "vehicle_age_inf = df['vehicle_age'].quantile(0.25) - 1.5 * vehicle_age_IQR\n",
    "odometer_inf = df['odometer'].quantile(0.25) - 1.5 * odometer_IQR\n",
    "\n",
    "print(price_inf)\n",
    "print(vehicle_age_inf)\n",
    "print(odometer_inf)"
   ]
  },
  {
   "cell_type": "code",
   "execution_count": 34,
   "metadata": {},
   "outputs": [
    {
     "name": "stdout",
     "output_type": "stream",
     "text": [
      "34597.5\n",
      "25.0\n",
      "247969.0\n"
     ]
    }
   ],
   "source": [
    "# Determinamos los límites superiores para valores atípicos\n",
    "\n",
    "price_sup = df['price'].quantile(0.75) + 1.5 * price_IQR\n",
    "vehicle_age_sup  = df['vehicle_age'].quantile(0.75) + 1.5 * vehicle_age_IQR\n",
    "odometer_sup = df['odometer'].quantile(0.75) + 1.5 * odometer_IQR\n",
    "\n",
    "print(price_sup)\n",
    "print(vehicle_age_sup)\n",
    "print(odometer_sup)"
   ]
  },
  {
   "cell_type": "markdown",
   "metadata": {},
   "source": [
    "Voy almacenar los datos en un nuevo DataFrame tomando el valor minimo del precio como 1950 dolares que es el valor del 5% de los datos en la columna de price"
   ]
  },
  {
   "cell_type": "code",
   "execution_count": 35,
   "metadata": {},
   "outputs": [
    {
     "name": "stdout",
     "output_type": "stream",
     "text": [
      "<class 'pandas.core.frame.DataFrame'>\n",
      "Int64Index: 45597 entries, 0 to 51524\n",
      "Data columns (total 18 columns):\n",
      " #   Column            Non-Null Count  Dtype         \n",
      "---  ------            --------------  -----         \n",
      " 0   price             45597 non-null  float64       \n",
      " 1   model_year        45597 non-null  int64         \n",
      " 2   model             45597 non-null  object        \n",
      " 3   condition         45597 non-null  int64         \n",
      " 4   cylinders         45597 non-null  int64         \n",
      " 5   fuel              45597 non-null  object        \n",
      " 6   odometer          45597 non-null  float64       \n",
      " 7   transmission      45597 non-null  object        \n",
      " 8   type              45597 non-null  object        \n",
      " 9   paint_color       45597 non-null  object        \n",
      " 10  is_4wd            45597 non-null  bool          \n",
      " 11  date_posted       45597 non-null  datetime64[ns]\n",
      " 12  days_listed       45597 non-null  int64         \n",
      " 13  date_posted_year  45597 non-null  float64       \n",
      " 14  month_posted      45597 non-null  int64         \n",
      " 15  wd_posted         45597 non-null  int64         \n",
      " 16  vehicle_age       45597 non-null  int64         \n",
      " 17  miles_year        45597 non-null  float64       \n",
      "dtypes: bool(1), datetime64[ns](1), float64(4), int64(7), object(5)\n",
      "memory usage: 6.3+ MB\n"
     ]
    }
   ],
   "source": [
    "# Almacenamos los datos sin valores atípicos en un DataFrame separado\n",
    "\n",
    "df_no_atypical = df[(df['price'] > 1950) &\n",
    "                 (df['price'] < price_sup) &\n",
    "                 (df['vehicle_age'] > vehicle_age_inf) &\n",
    "                 (df['vehicle_age'] < vehicle_age_sup) &\n",
    "                 (df['odometer'] > odometer_inf) &\n",
    "                 (df['odometer'] < odometer_sup) \n",
    "                 ]\n",
    "\n",
    "df_no_atypical.info()"
   ]
  },
  {
   "cell_type": "markdown",
   "metadata": {},
   "source": [
    "El numero de datos por columna se redujo en 5539 datos que tomamos como atipicos"
   ]
  },
  {
   "cell_type": "markdown",
   "metadata": {},
   "source": [
    "## Estudiar parámetros principales sin valores atípicos"
   ]
  },
  {
   "cell_type": "markdown",
   "metadata": {},
   "source": [
    "Veamos como quedaron los histogramas ahora que eliminamos los valores atipicos"
   ]
  },
  {
   "cell_type": "code",
   "execution_count": 36,
   "metadata": {
    "scrolled": false
   },
   "outputs": [
    {
     "data": {
      "image/png": "[encoded data removed]",
      "text/plain": [
       "<Figure size 720x720 with 1 Axes>"
      ]
     },
     "metadata": {
      "needs_background": "light"
     },
     "output_type": "display_data"
    },
    {
     "data": {
      "image/png": "[encoded data removed]",
      "text/plain": [
       "<Figure size 720x720 with 1 Axes>"
      ]
     },
     "metadata": {
      "needs_background": "light"
     },
     "output_type": "display_data"
    },
    {
     "data": {
      "image/png": "[encoded data removed]",
      "text/plain": [
       "<Figure size 720x720 with 1 Axes>"
      ]
     },
     "metadata": {
      "needs_background": "light"
     },
     "output_type": "display_data"
    }
   ],
   "source": [
    "new_parametros = df_no_atypical.filter(['price', 'vehicle_age', 'odometer'])\n",
    "for values in new_parametros:\n",
    "     new_parametros.plot(y=values, kind='hist', bins=100, figsize= (10, 10))    "
   ]
  },
  {
   "cell_type": "markdown",
   "metadata": {},
   "source": [
    "Ahora se observan mejor las graficas sin los valores atipicos"
   ]
  },
  {
   "cell_type": "markdown",
   "metadata": {},
   "source": [
    "Conclusiones intermedias"
   ]
  },
  {
   "cell_type": "markdown",
   "metadata": {},
   "source": [
    "Podemos ver que los datos se encuentran mejor distribuidos, las curvas son mas chatas y se aprecian mejor los datos sin los datos atipicos"
   ]
  },
  {
   "cell_type": "markdown",
   "metadata": {},
   "source": [
    "## Periodo de colocación de los anuncios\n",
    "\n"
   ]
  },
  {
   "cell_type": "markdown",
   "metadata": {},
   "source": [
    "Vamos a buscar los valores de la media y de la mediana de los dias publicados al igual que aquellos valores anormalmente cortos y largos, para ellos vamos a ver los percentiles de la columna `days_posted`"
   ]
  },
  {
   "cell_type": "code",
   "execution_count": 37,
   "metadata": {},
   "outputs": [
    {
     "data": {
      "text/plain": [
       "count    45597.000000\n",
       "mean        39.571090\n",
       "std         28.226522\n",
       "min          0.000000\n",
       "0%           0.000000\n",
       "5%           7.000000\n",
       "10%         10.000000\n",
       "15%         13.000000\n",
       "20%         16.000000\n",
       "25%         19.000000\n",
       "30%         22.000000\n",
       "35%         24.000000\n",
       "40%         27.000000\n",
       "45%         30.000000\n",
       "50%         33.000000\n",
       "55%         36.000000\n",
       "60%         40.000000\n",
       "65%         44.000000\n",
       "70%         48.000000\n",
       "75%         53.000000\n",
       "80%         59.000000\n",
       "85%         67.000000\n",
       "90%         77.000000\n",
       "95%         94.000000\n",
       "98%        115.000000\n",
       "99%        132.000000\n",
       "100%       271.000000\n",
       "max        271.000000\n",
       "Name: days_listed, dtype: float64"
      ]
     },
     "execution_count": 37,
     "metadata": {},
     "output_type": "execute_result"
    }
   ],
   "source": [
    "df_no_atypical['days_listed'].describe(percentiles=list(np.linspace(0, 1, 21)) + [0.98, 0.99])"
   ]
  },
  {
   "cell_type": "markdown",
   "metadata": {},
   "source": [
    "Podemos ver que la media tiene un valor de 39.5 días, la mediana son 33 días, los días mas cortos que se encontraron publicados es 0, puede ser un error o que se vendio en el día y el mas largo fue de 271 días pero se puede interpretar que fue un caso especial ya que el 98% = 115 días y el 99% = 132 días."
   ]
  },
  {
   "cell_type": "markdown",
   "metadata": {},
   "source": [
    "## Precio promedio por cada tipo de vehículo"
   ]
  },
  {
   "cell_type": "markdown",
   "metadata": {},
   "source": [
    "\n",
    "Veremos el número de anuncio y el precio promedio para cada tipo de vehículo, graficando la dependencia "
   ]
  },
  {
   "cell_type": "code",
   "execution_count": 38,
   "metadata": {},
   "outputs": [
    {
     "name": "stdout",
     "output_type": "stream",
     "text": [
      "           type       mean  count\n",
      "0           SUV  39.760217  11231\n",
      "1         sedan  39.410618  11132\n",
      "2         truck  39.460421  10536\n",
      "3        pickup  39.342066   6069\n",
      "4         coupe  39.341176   1870\n",
      "5         wagon  40.316818   1433\n",
      "6      mini-van  39.528493   1088\n",
      "7     hatchback  40.790306    949\n",
      "8           van  41.365138    545\n",
      "9   convertible  38.015337    326\n",
      "10        other  38.097778    225\n",
      "11      offroad  40.542857    175\n",
      "12          bus  48.444444     18\n"
     ]
    },
    {
     "data": {
      "image/png": "[encoded data removed]",
      "text/plain": [
       "<Figure size 1080x432 with 1 Axes>"
      ]
     },
     "metadata": {
      "needs_background": "light"
     },
     "output_type": "display_data"
    }
   ],
   "source": [
    "ads_by_days_listed = (\n",
    "df_no_atypical\n",
    " .groupby(\"type\")[\"days_listed\"]\n",
    " .agg([\"mean\", \"count\"])\n",
    " .reset_index()\n",
    " .sort_values(by=\"count\", ascending=False)\n",
    " .reset_index(drop=True)\n",
    ")\n",
    "\n",
    "print(ads_by_days_listed)\n",
    "ads_by_days_listed.plot(kind=\"bar\", x=\"type\", y=\"count\", figsize=(15, 6))\n",
    "\n",
    "plt.show()"
   ]
  },
  {
   "cell_type": "markdown",
   "metadata": {},
   "source": [
    "Se puede observar que los vehiculos con mayor numero de anuncios son: SUV y seguido muy de cerda los Truck y Sedan.\n",
    "Si bien se pide analizar los 2 primeros con mayor numero de publiciones, la diferencia entre el segundo y tercero es demaciado poca como para ignorarla "
   ]
  },
  {
   "cell_type": "code",
   "execution_count": 39,
   "metadata": {},
   "outputs": [
    {
     "name": "stdout",
     "output_type": "stream",
     "text": [
      "           type         price\n",
      "0           bus  19959.166667\n",
      "1         truck  15851.191439\n",
      "2        pickup  15476.717581\n",
      "3       offroad  14851.354286\n",
      "4         coupe  14516.559358\n",
      "5   convertible  13626.131902\n",
      "6           SUV  11013.996527\n",
      "7         other  10862.742222\n",
      "8           van   9388.429358\n",
      "9         wagon   9327.307048\n",
      "10     mini-van   8405.265625\n",
      "11        sedan   7450.754581\n",
      "12    hatchback   7191.444679\n"
     ]
    }
   ],
   "source": [
    "type_price = (\n",
    "    df_no_atypical.groupby('type')['price']\n",
    "    .agg('mean').reset_index()\n",
    "    .sort_values(by=\"price\", ascending=False)\n",
    "    .reset_index(drop=True)\n",
    ")\n",
    "\n",
    "print(type_price)"
   ]
  },
  {
   "cell_type": "code",
   "execution_count": 40,
   "metadata": {},
   "outputs": [
    {
     "data": {
      "image/png": "[encoded data removed]",
      "text/plain": [
       "<Figure size 1080x432 with 1 Axes>"
      ]
     },
     "metadata": {
      "needs_background": "light"
     },
     "output_type": "display_data"
    }
   ],
   "source": [
    "type_price.plot(kind=\"bar\", x=\"type\", y=\"price\", figsize=(15, 6))\n",
    "plt.show()"
   ]
  },
  {
   "cell_type": "markdown",
   "metadata": {},
   "source": [
    "Cuando vemos los precios para compararlos vemos que los Truck son los 2° mas caros, esto no es anormal ya que son vehiculos para trabajos de transporte de cargas, los SUV se encuentran en el rango de la median de los valores y al ser de gran capacidad, no es de extrañar que sean muy buscados y por ultimo los Sedan son los 2° mas baratos casi a la par de los Hatchback dentro de los vehiculos publicados, por una cuestion de mercadeo deben saber que se venden mas facilmente que los Hatchback, es por ello el gran numero de publicaciones de este tipo de vehiculos"
   ]
  },
  {
   "cell_type": "markdown",
   "metadata": {},
   "source": [
    "## Factores de precio"
   ]
  },
  {
   "cell_type": "markdown",
   "metadata": {},
   "source": [
    "Vamos a realizar una matriz de correlación para comparar las diferentes variables `price`, `vehicle_age`, `miles_year`, `condition`, `transmission` y `paint_color`con los vehículos que identificamos anteriormente, para corrobirar si existe o no la dependencia de las variables con respecto al precio."
   ]
  },
  {
   "cell_type": "code",
   "execution_count": 41,
   "metadata": {},
   "outputs": [
    {
     "data": {
      "text/html": [
       "<div>\n",
       "<style scoped>\n",
       "    .dataframe tbody tr th:only-of-type {\n",
       "        vertical-align: middle;\n",
       "    }\n",
       "\n",
       "    .dataframe tbody tr th {\n",
       "        vertical-align: top;\n",
       "    }\n",
       "\n",
       "    .dataframe thead th {\n",
       "        text-align: right;\n",
       "    }\n",
       "</style>\n",
       "<table border=\"1\" class=\"dataframe\">\n",
       "  <thead>\n",
       "    <tr style=\"text-align: right;\">\n",
       "      <th></th>\n",
       "      <th>price</th>\n",
       "      <th>model_year</th>\n",
       "      <th>condition</th>\n",
       "      <th>cylinders</th>\n",
       "      <th>odometer</th>\n",
       "      <th>is_4wd</th>\n",
       "      <th>days_listed</th>\n",
       "      <th>date_posted_year</th>\n",
       "      <th>month_posted</th>\n",
       "      <th>wd_posted</th>\n",
       "      <th>vehicle_age</th>\n",
       "      <th>miles_year</th>\n",
       "    </tr>\n",
       "  </thead>\n",
       "  <tbody>\n",
       "    <tr>\n",
       "      <th>price</th>\n",
       "      <td>1.000000</td>\n",
       "      <td>0.469797</td>\n",
       "      <td>-0.170420</td>\n",
       "      <td>0.473509</td>\n",
       "      <td>-0.310178</td>\n",
       "      <td>NaN</td>\n",
       "      <td>0.005975</td>\n",
       "      <td>0.007919</td>\n",
       "      <td>-0.007647</td>\n",
       "      <td>-0.004336</td>\n",
       "      <td>-0.467558</td>\n",
       "      <td>0.248034</td>\n",
       "    </tr>\n",
       "    <tr>\n",
       "      <th>model_year</th>\n",
       "      <td>0.469797</td>\n",
       "      <td>1.000000</td>\n",
       "      <td>-0.259162</td>\n",
       "      <td>-0.182169</td>\n",
       "      <td>-0.482717</td>\n",
       "      <td>NaN</td>\n",
       "      <td>-0.004247</td>\n",
       "      <td>0.018192</td>\n",
       "      <td>-0.016839</td>\n",
       "      <td>-0.007693</td>\n",
       "      <td>-0.995101</td>\n",
       "      <td>0.495739</td>\n",
       "    </tr>\n",
       "    <tr>\n",
       "      <th>condition</th>\n",
       "      <td>-0.170420</td>\n",
       "      <td>-0.259162</td>\n",
       "      <td>1.000000</td>\n",
       "      <td>0.121581</td>\n",
       "      <td>0.250974</td>\n",
       "      <td>NaN</td>\n",
       "      <td>-0.001807</td>\n",
       "      <td>-0.011869</td>\n",
       "      <td>0.008657</td>\n",
       "      <td>0.003096</td>\n",
       "      <td>0.257185</td>\n",
       "      <td>-0.068933</td>\n",
       "    </tr>\n",
       "    <tr>\n",
       "      <th>cylinders</th>\n",
       "      <td>0.473509</td>\n",
       "      <td>-0.182169</td>\n",
       "      <td>0.121581</td>\n",
       "      <td>1.000000</td>\n",
       "      <td>0.187179</td>\n",
       "      <td>NaN</td>\n",
       "      <td>0.003691</td>\n",
       "      <td>0.003919</td>\n",
       "      <td>-0.004024</td>\n",
       "      <td>-0.003499</td>\n",
       "      <td>0.181992</td>\n",
       "      <td>-0.009849</td>\n",
       "    </tr>\n",
       "    <tr>\n",
       "      <th>odometer</th>\n",
       "      <td>-0.310178</td>\n",
       "      <td>-0.482717</td>\n",
       "      <td>0.250974</td>\n",
       "      <td>0.187179</td>\n",
       "      <td>1.000000</td>\n",
       "      <td>NaN</td>\n",
       "      <td>0.002166</td>\n",
       "      <td>-0.009160</td>\n",
       "      <td>0.015973</td>\n",
       "      <td>0.007571</td>\n",
       "      <td>0.480315</td>\n",
       "      <td>0.210519</td>\n",
       "    </tr>\n",
       "    <tr>\n",
       "      <th>is_4wd</th>\n",
       "      <td>NaN</td>\n",
       "      <td>NaN</td>\n",
       "      <td>NaN</td>\n",
       "      <td>NaN</td>\n",
       "      <td>NaN</td>\n",
       "      <td>NaN</td>\n",
       "      <td>NaN</td>\n",
       "      <td>NaN</td>\n",
       "      <td>NaN</td>\n",
       "      <td>NaN</td>\n",
       "      <td>NaN</td>\n",
       "      <td>NaN</td>\n",
       "    </tr>\n",
       "    <tr>\n",
       "      <th>days_listed</th>\n",
       "      <td>0.005975</td>\n",
       "      <td>-0.004247</td>\n",
       "      <td>-0.001807</td>\n",
       "      <td>0.003691</td>\n",
       "      <td>0.002166</td>\n",
       "      <td>NaN</td>\n",
       "      <td>1.000000</td>\n",
       "      <td>0.007662</td>\n",
       "      <td>-0.006070</td>\n",
       "      <td>0.009336</td>\n",
       "      <td>0.004992</td>\n",
       "      <td>-0.006279</td>\n",
       "    </tr>\n",
       "    <tr>\n",
       "      <th>date_posted_year</th>\n",
       "      <td>0.007919</td>\n",
       "      <td>0.018192</td>\n",
       "      <td>-0.011869</td>\n",
       "      <td>0.003919</td>\n",
       "      <td>-0.009160</td>\n",
       "      <td>NaN</td>\n",
       "      <td>0.007662</td>\n",
       "      <td>1.000000</td>\n",
       "      <td>-0.817086</td>\n",
       "      <td>-0.009354</td>\n",
       "      <td>0.080741</td>\n",
       "      <td>-0.108321</td>\n",
       "    </tr>\n",
       "    <tr>\n",
       "      <th>month_posted</th>\n",
       "      <td>-0.007647</td>\n",
       "      <td>-0.016839</td>\n",
       "      <td>0.008657</td>\n",
       "      <td>-0.004024</td>\n",
       "      <td>0.015973</td>\n",
       "      <td>NaN</td>\n",
       "      <td>-0.006070</td>\n",
       "      <td>-0.817086</td>\n",
       "      <td>1.000000</td>\n",
       "      <td>0.009769</td>\n",
       "      <td>-0.064004</td>\n",
       "      <td>0.092094</td>\n",
       "    </tr>\n",
       "    <tr>\n",
       "      <th>wd_posted</th>\n",
       "      <td>-0.004336</td>\n",
       "      <td>-0.007693</td>\n",
       "      <td>0.003096</td>\n",
       "      <td>-0.003499</td>\n",
       "      <td>0.007571</td>\n",
       "      <td>NaN</td>\n",
       "      <td>0.009336</td>\n",
       "      <td>-0.009354</td>\n",
       "      <td>0.009769</td>\n",
       "      <td>1.000000</td>\n",
       "      <td>0.006745</td>\n",
       "      <td>0.000697</td>\n",
       "    </tr>\n",
       "    <tr>\n",
       "      <th>vehicle_age</th>\n",
       "      <td>-0.467558</td>\n",
       "      <td>-0.995101</td>\n",
       "      <td>0.257185</td>\n",
       "      <td>0.181992</td>\n",
       "      <td>0.480315</td>\n",
       "      <td>NaN</td>\n",
       "      <td>0.004992</td>\n",
       "      <td>0.080741</td>\n",
       "      <td>-0.064004</td>\n",
       "      <td>0.006745</td>\n",
       "      <td>1.000000</td>\n",
       "      <td>-0.504912</td>\n",
       "    </tr>\n",
       "    <tr>\n",
       "      <th>miles_year</th>\n",
       "      <td>0.248034</td>\n",
       "      <td>0.495739</td>\n",
       "      <td>-0.068933</td>\n",
       "      <td>-0.009849</td>\n",
       "      <td>0.210519</td>\n",
       "      <td>NaN</td>\n",
       "      <td>-0.006279</td>\n",
       "      <td>-0.108321</td>\n",
       "      <td>0.092094</td>\n",
       "      <td>0.000697</td>\n",
       "      <td>-0.504912</td>\n",
       "      <td>1.000000</td>\n",
       "    </tr>\n",
       "  </tbody>\n",
       "</table>\n",
       "</div>"
      ],
      "text/plain": [
       "                     price  model_year  condition  cylinders  odometer  \\\n",
       "price             1.000000    0.469797  -0.170420   0.473509 -0.310178   \n",
       "model_year        0.469797    1.000000  -0.259162  -0.182169 -0.482717   \n",
       "condition        -0.170420   -0.259162   1.000000   0.121581  0.250974   \n",
       "cylinders         0.473509   -0.182169   0.121581   1.000000  0.187179   \n",
       "odometer         -0.310178   -0.482717   0.250974   0.187179  1.000000   \n",
       "is_4wd                 NaN         NaN        NaN        NaN       NaN   \n",
       "days_listed       0.005975   -0.004247  -0.001807   0.003691  0.002166   \n",
       "date_posted_year  0.007919    0.018192  -0.011869   0.003919 -0.009160   \n",
       "month_posted     -0.007647   -0.016839   0.008657  -0.004024  0.015973   \n",
       "wd_posted        -0.004336   -0.007693   0.003096  -0.003499  0.007571   \n",
       "vehicle_age      -0.467558   -0.995101   0.257185   0.181992  0.480315   \n",
       "miles_year        0.248034    0.495739  -0.068933  -0.009849  0.210519   \n",
       "\n",
       "                  is_4wd  days_listed  date_posted_year  month_posted  \\\n",
       "price                NaN     0.005975          0.007919     -0.007647   \n",
       "model_year           NaN    -0.004247          0.018192     -0.016839   \n",
       "condition            NaN    -0.001807         -0.011869      0.008657   \n",
       "cylinders            NaN     0.003691          0.003919     -0.004024   \n",
       "odometer             NaN     0.002166         -0.009160      0.015973   \n",
       "is_4wd               NaN          NaN               NaN           NaN   \n",
       "days_listed          NaN     1.000000          0.007662     -0.006070   \n",
       "date_posted_year     NaN     0.007662          1.000000     -0.817086   \n",
       "month_posted         NaN    -0.006070         -0.817086      1.000000   \n",
       "wd_posted            NaN     0.009336         -0.009354      0.009769   \n",
       "vehicle_age          NaN     0.004992          0.080741     -0.064004   \n",
       "miles_year           NaN    -0.006279         -0.108321      0.092094   \n",
       "\n",
       "                  wd_posted  vehicle_age  miles_year  \n",
       "price             -0.004336    -0.467558    0.248034  \n",
       "model_year        -0.007693    -0.995101    0.495739  \n",
       "condition          0.003096     0.257185   -0.068933  \n",
       "cylinders         -0.003499     0.181992   -0.009849  \n",
       "odometer           0.007571     0.480315    0.210519  \n",
       "is_4wd                  NaN          NaN         NaN  \n",
       "days_listed        0.009336     0.004992   -0.006279  \n",
       "date_posted_year  -0.009354     0.080741   -0.108321  \n",
       "month_posted       0.009769    -0.064004    0.092094  \n",
       "wd_posted          1.000000     0.006745    0.000697  \n",
       "vehicle_age        0.006745     1.000000   -0.504912  \n",
       "miles_year         0.000697    -0.504912    1.000000  "
      ]
     },
     "execution_count": 41,
     "metadata": {},
     "output_type": "execute_result"
    }
   ],
   "source": [
    "impact = df_no_atypical.query('type == (\"suv\", \"sedan\", \"truck\")')\n",
    "impact.corr()"
   ]
  },
  {
   "cell_type": "code",
   "execution_count": 42,
   "metadata": {},
   "outputs": [
    {
     "data": {
      "image/png": "[encoded data removed]",
      "text/plain": [
       "<Figure size 432x288 with 1 Axes>"
      ]
     },
     "metadata": {
      "needs_background": "light"
     },
     "output_type": "display_data"
    }
   ],
   "source": [
    "impact.plot(x='vehicle_age', y='price',kind='scatter') \n",
    "plt.show()"
   ]
  },
  {
   "cell_type": "markdown",
   "metadata": {},
   "source": [
    "El precio de los vehiculos es inversamente proporcional a la edad del vehiculo, esto es logico porque mientras es mas viejo es mas barato"
   ]
  },
  {
   "cell_type": "code",
   "execution_count": 43,
   "metadata": {},
   "outputs": [
    {
     "data": {
      "image/png": "[encoded data removed]",
      "text/plain": [
       "<Figure size 648x648 with 1 Axes>"
      ]
     },
     "metadata": {
      "needs_background": "light"
     },
     "output_type": "display_data"
    }
   ],
   "source": [
    "impact.plot(x='miles_year', y='price',kind='scatter', figsize=(9, 9)) \n",
    "plt.show()"
   ]
  },
  {
   "cell_type": "markdown",
   "metadata": {},
   "source": [
    "En este caso se puede observar que es apenas directamente propocional el precio del vehiculo con la cantidad de millas que posee, aunque no es muy claro el grafico"
   ]
  },
  {
   "cell_type": "code",
   "execution_count": 44,
   "metadata": {},
   "outputs": [
    {
     "data": {
      "image/png": "[encoded data removed]",
      "text/plain": [
       "<Figure size 432x288 with 1 Axes>"
      ]
     },
     "metadata": {
      "needs_background": "light"
     },
     "output_type": "display_data"
    }
   ],
   "source": [
    "impact.plot(x='condition', y='price',kind='scatter') \n",
    "plt.show()"
   ]
  },
  {
   "cell_type": "markdown",
   "metadata": {},
   "source": [
    "Se ve que no hay relacion entre las condiciones de los vehiculos entre los valores 0 al 3 (para rescate a  excelente), recien en los valores 4 y 5 (como nuevo y nuevo) se observan una relacion inversamente proporcional entre la condicion y el precio del vehiculo"
   ]
  },
  {
   "cell_type": "markdown",
   "metadata": {},
   "source": [
    "Para las variables de color y transmision vamos a verificar que primero tengan mas de 50 anuncios, antes de graficarlos"
   ]
  },
  {
   "cell_type": "code",
   "execution_count": 45,
   "metadata": {},
   "outputs": [
    {
     "data": {
      "text/plain": [
       "transmission\n",
       "automatic    20672\n",
       "manual         851\n",
       "other          145\n",
       "Name: transmission, dtype: int64"
      ]
     },
     "execution_count": 45,
     "metadata": {},
     "output_type": "execute_result"
    }
   ],
   "source": [
    "impact.groupby('transmission')['transmission'].count()"
   ]
  },
  {
   "cell_type": "code",
   "execution_count": 46,
   "metadata": {},
   "outputs": [
    {
     "data": {
      "image/png": "[encoded data removed]",
      "text/plain": [
       "<Figure size 720x720 with 1 Axes>"
      ]
     },
     "metadata": {
      "needs_background": "light"
     },
     "output_type": "display_data"
    }
   ],
   "source": [
    "impact.boxplot(column ='price',by='transmission',figsize=(10,10))\n",
    "plt.show()"
   ]
  },
  {
   "cell_type": "markdown",
   "metadata": {},
   "source": [
    "Vemos que los vehiculos con transmision `automatica` son la categoria mas cara, pero la media es menor que las de `others` aunque estos son un poco mas baratos que los vehiculos automaticos.\n",
    "Los vehiculos con `caja manual` son los mas baratos de los 3"
   ]
  },
  {
   "cell_type": "code",
   "execution_count": 47,
   "metadata": {},
   "outputs": [
    {
     "data": {
      "text/plain": [
       "paint_color\n",
       "white      4545\n",
       "unknown    3817\n",
       "black      2966\n",
       "silver     2784\n",
       "grey       2347\n",
       "blue       1914\n",
       "red        1764\n",
       "custom      528\n",
       "brown       438\n",
       "green       402\n",
       "yellow       79\n",
       "orange       52\n",
       "purple       32\n",
       "Name: paint_color, dtype: int64"
      ]
     },
     "execution_count": 47,
     "metadata": {},
     "output_type": "execute_result"
    }
   ],
   "source": [
    "impact.groupby('paint_color')['paint_color'].count().sort_values(ascending=False)"
   ]
  },
  {
   "cell_type": "code",
   "execution_count": 48,
   "metadata": {},
   "outputs": [
    {
     "data": {
      "image/png": "[encoded data removed]",
      "text/plain": [
       "<Figure size 1080x720 with 1 Axes>"
      ]
     },
     "metadata": {
      "needs_background": "light"
     },
     "output_type": "display_data"
    }
   ],
   "source": [
    "impact.boxplot(column ='price',by='paint_color',figsize=(15,10))\n",
    "plt.show()"
   ]
  },
  {
   "cell_type": "markdown",
   "metadata": {},
   "source": [
    "Dentro de los vehiculos cuyo valor son los mas altos son los de color:\n",
    " * negro\n",
    " * blanco\n",
    " * amarillo (su media coincide con el valor superior de la caja, lo que me dice que son autos de rango caros)\n",
    " * custom\n",
    " * rojos\n",
    "\n",
    "Los valores desconocidos, naranjas y purpura los dejo de lado, porque o no cumplen con mas de 50 publicaciones por lo que no representan un valor estadisticamente significativo o porque desconosco el verdadero color del vehiculo, pero como se analizo anteriormente el numero de autos con este \"color\" es demaciado grande para eliminarlos "
   ]
  },
  {
   "cell_type": "markdown",
   "metadata": {},
   "source": [
    "## Conclusión Final\n"
   ]
  },
  {
   "cell_type": "markdown",
   "metadata": {},
   "source": [
    "Despues de analizar todos los datos se puede llegar a las siguientes conclusiónes:\n",
    "\n",
    "* Los datos estabán bien cargados solo hubo algunos problemas con valores ausentes  .\n",
    "* Los valores ausentes para `model_year` y `odometer` se contaba con los valores de la `condición del vehículo` lo  que facilito el analisis para los modelos que si tenían información. \n",
    "  Se recomienda para el futuro hacer esos campos obligatorios en el momento de la publicación, para evitar futuros valores ausentes.\n",
    "* Con la descripción del DataFrame se pudo ver cual era el mejor estadistico para rellenar los valores ausentes en cada uno de los casos.\n",
    "* Se identificaron valores que que afectaban la distribución de los datos, es por ello que se tuvo que realiazar un nuevo DataFrame para filtrar los valores anormales.\n",
    "\n",
    "Conclusiones  de las hipótesis:\n",
    "* Se compro la 1° hipotesis en donde el valor de los vehículos es inversamente proporcial a la antigüedad del modelo, esto es conciso ya que los autos mas viejos son mas prospenso a tener averias y su valor es inferior a medida que pasan los años.\n",
    "* En la 2° hipotesis vemos que realmete las millas recoridas afectan el valor final del vehículo porque es una buena relación del uso que tuvo el vehículo.\n",
    "* En el caso de la 3° hipotesis se rechaza ya que no se observan una relación directa entre la condición y el precio, al contrario se observo que la relación condición/precio es casi nula y en las condiciones 4 y  5 esta relación era inversamente proporcional al precio.\n",
    "* Cuando comparamos si la transmision influye en el precio del vehículo, se evidencia que la mas buscada es la `transmisión automatica`.\n",
    "* Con la 5° y ultima hipotesis vemos una clara preferencia por ciertos colores a la hora de comprar el vehículo, estos son :\n",
    " - negro\n",
    " - blanco\n",
    " - amarillo \n",
    " - custom\n",
    " - rojos\n",
    "\n",
    "* Inferir en el porque de la elección va mas alla de datos proporcionados pero si podemos sugerir que se adquieran vehículos de esos colores ya que son los mas demandados y van a tener una alta taza de venta siempre que se cumplan con el resto de los valores analizados anteriormente.\n",
    "  "
   ]
  },
  {
   "cell_type": "code",
   "execution_count": null,
   "metadata": {},
   "outputs": [],
   "source": []
  }
 ],
 "metadata": {
  "ExecuteTimeLog": [
   {
    "duration": 828,
    "start_time": "2021-11-16T09:21:11.304Z"
   },
   {
    "duration": 893,
    "start_time": "2021-11-16T09:21:17.728Z"
   },
   {
    "duration": 1150,
    "start_time": "2021-11-16T09:21:29.568Z"
   },
   {
    "duration": 3,
    "start_time": "2021-11-16T09:24:14.495Z"
   },
   {
    "duration": 120,
    "start_time": "2021-11-16T09:24:46.630Z"
   },
   {
    "duration": 3,
    "start_time": "2021-11-16T09:28:27.882Z"
   },
   {
    "duration": 4,
    "start_time": "2021-11-16T09:29:54.281Z"
   },
   {
    "duration": 3,
    "start_time": "2021-11-16T09:30:45.936Z"
   },
   {
    "duration": 4,
    "start_time": "2021-11-16T09:31:06.300Z"
   },
   {
    "duration": 113,
    "start_time": "2021-11-16T09:31:37.208Z"
   },
   {
    "duration": 143,
    "start_time": "2021-11-16T09:31:48.656Z"
   },
   {
    "duration": 98,
    "start_time": "2021-11-16T09:31:55.678Z"
   },
   {
    "duration": 3,
    "start_time": "2021-11-16T09:32:08.535Z"
   },
   {
    "duration": 111,
    "start_time": "2021-11-16T09:32:10.120Z"
   },
   {
    "duration": 3,
    "start_time": "2021-11-16T09:32:15.732Z"
   },
   {
    "duration": 4,
    "start_time": "2021-11-16T09:32:29.423Z"
   },
   {
    "duration": 3,
    "start_time": "2021-11-16T10:03:03.074Z"
   },
   {
    "duration": 3,
    "start_time": "2021-11-16T10:10:01.288Z"
   },
   {
    "duration": 3,
    "start_time": "2021-11-16T10:10:46.923Z"
   },
   {
    "duration": 121,
    "start_time": "2021-11-16T10:37:46.494Z"
   },
   {
    "duration": 125,
    "start_time": "2021-11-16T10:38:20.632Z"
   },
   {
    "duration": 112,
    "start_time": "2021-11-16T10:46:53.001Z"
   },
   {
    "duration": 110,
    "start_time": "2021-11-16T10:48:25.775Z"
   },
   {
    "duration": 3,
    "start_time": "2021-11-16T10:50:18.720Z"
   },
   {
    "duration": 4,
    "start_time": "2021-11-16T10:50:37.649Z"
   },
   {
    "duration": 2,
    "start_time": "2021-11-16T10:50:51.884Z"
   },
   {
    "duration": 3,
    "start_time": "2021-11-16T10:51:56.237Z"
   },
   {
    "duration": 101,
    "start_time": "2021-11-16T10:53:13.791Z"
   },
   {
    "duration": 3,
    "start_time": "2021-11-16T10:55:59.186Z"
   },
   {
    "duration": 3,
    "start_time": "2021-11-16T10:56:10.751Z"
   },
   {
    "duration": 3,
    "start_time": "2021-11-16T10:56:49.038Z"
   },
   {
    "duration": 3,
    "start_time": "2021-11-16T10:56:49.174Z"
   },
   {
    "duration": 4,
    "start_time": "2021-11-16T10:56:49.414Z"
   },
   {
    "duration": 3,
    "start_time": "2021-11-16T10:56:49.680Z"
   },
   {
    "duration": 3,
    "start_time": "2021-11-16T10:56:50.370Z"
   },
   {
    "duration": 114,
    "start_time": "2021-11-16T10:59:34.518Z"
   },
   {
    "duration": 3,
    "start_time": "2021-11-16T11:01:41.201Z"
   },
   {
    "duration": 116,
    "start_time": "2021-11-16T11:01:48.754Z"
   },
   {
    "duration": 3,
    "start_time": "2021-11-16T11:02:16.685Z"
   },
   {
    "duration": 3,
    "start_time": "2021-11-16T11:02:19.479Z"
   },
   {
    "duration": 3,
    "start_time": "2021-11-16T11:02:47.067Z"
   },
   {
    "duration": 3,
    "start_time": "2021-11-16T11:02:49.353Z"
   },
   {
    "duration": 3,
    "start_time": "2021-11-16T11:03:07.835Z"
   },
   {
    "duration": 3,
    "start_time": "2021-11-16T11:03:07.953Z"
   },
   {
    "duration": 112,
    "start_time": "2021-11-16T11:07:52.072Z"
   },
   {
    "duration": 187,
    "start_time": "2021-11-16T11:09:23.468Z"
   },
   {
    "duration": 4,
    "start_time": "2021-11-16T11:10:01.455Z"
   },
   {
    "duration": 3,
    "start_time": "2021-11-16T11:10:05.069Z"
   },
   {
    "duration": 4,
    "start_time": "2021-11-16T11:10:13.376Z"
   },
   {
    "duration": 3,
    "start_time": "2021-11-16T11:10:14.434Z"
   },
   {
    "duration": 3,
    "start_time": "2021-11-16T11:10:22.853Z"
   },
   {
    "duration": 4,
    "start_time": "2021-11-16T11:27:29.279Z"
   },
   {
    "duration": 4,
    "start_time": "2021-11-16T11:29:08.919Z"
   },
   {
    "duration": 118,
    "start_time": "2021-11-16T11:29:46.703Z"
   },
   {
    "duration": 437,
    "start_time": "2021-11-16T11:36:02.181Z"
   },
   {
    "duration": 157,
    "start_time": "2021-11-16T11:36:14.388Z"
   },
   {
    "duration": 207,
    "start_time": "2021-11-16T11:47:15.898Z"
   },
   {
    "duration": 3,
    "start_time": "2021-11-16T11:53:52.092Z"
   },
   {
    "duration": 3,
    "start_time": "2021-11-16T11:53:52.236Z"
   },
   {
    "duration": 3,
    "start_time": "2021-11-16T11:59:12.005Z"
   },
   {
    "duration": 112,
    "start_time": "2021-11-16T12:00:33.446Z"
   },
   {
    "duration": 3,
    "start_time": "2021-11-16T12:02:14.453Z"
   },
   {
    "duration": 3,
    "start_time": "2021-11-16T12:02:39.512Z"
   },
   {
    "duration": 106,
    "start_time": "2021-11-16T12:03:03.460Z"
   },
   {
    "duration": 506,
    "start_time": "2022-09-02T13:34:41.884Z"
   },
   {
    "duration": 162,
    "start_time": "2022-09-02T13:37:04.735Z"
   },
   {
    "duration": 30,
    "start_time": "2022-09-02T13:37:09.653Z"
   },
   {
    "duration": 18,
    "start_time": "2022-09-02T13:37:23.377Z"
   },
   {
    "duration": 23,
    "start_time": "2022-09-02T13:39:56.646Z"
   }
  ],
  "kernelspec": {
   "display_name": "Python 3 (ipykernel)",
   "language": "python",
   "name": "python3"
  },
  "language_info": {
   "codemirror_mode": {
    "name": "ipython",
    "version": 3
   },
   "file_extension": ".py",
   "mimetype": "text/x-python",
   "name": "python",
   "nbconvert_exporter": "python",
   "pygments_lexer": "ipython3",
   "version": "3.9.13"
  },
  "toc": {
   "base_numbering": 1,
   "nav_menu": {},
   "number_sections": true,
   "sideBar": true,
   "skip_h1_title": false,
   "title_cell": "Table of Contents",
   "title_sidebar": "Contents",
   "toc_cell": false,
   "toc_position": {
    "height": "calc(100% - 180px)",
    "left": "10px",
    "top": "150px",
    "width": "165px"
   },
   "toc_section_display": true,
   "toc_window_display": false
  }
 },
 "nbformat": 4,
 "nbformat_minor": 2
}
